{
  "nbformat": 4,
  "nbformat_minor": 0,
  "metadata": {
    "colab": {
      "name": "East African Development ",
      "provenance": [],
      "collapsed_sections": [],
      "toc_visible": true,
      "include_colab_link": true
    },
    "kernelspec": {
      "name": "python3",
      "display_name": "Python 3"
    }
  },
  "cells": [
    {
      "cell_type": "markdown",
      "metadata": {
        "id": "view-in-github",
        "colab_type": "text"
      },
      "source": [
        "<a href=\"https://colab.research.google.com/github/Maureen36Mathenge/global-development/blob/master/East_African_Development.ipynb\" target=\"_parent\"><img src=\"https://colab.research.google.com/assets/colab-badge.svg\" alt=\"Open In Colab\"/></a>"
      ]
    },
    {
      "cell_type": "code",
      "metadata": {
        "id": "qd7tMTcEh2VK",
        "colab_type": "code",
        "colab": {}
      },
      "source": [
        "#import libraries\n",
        "import pandas as pd\n",
        "import os\n",
        "import matplotlib.pyplot as plt\n",
        "from plotnine import *"
      ],
      "execution_count": 0,
      "outputs": []
    },
    {
      "cell_type": "code",
      "metadata": {
        "id": "LuvQ05Dgh-9i",
        "colab_type": "code",
        "outputId": "3c9e2a4a-c312-44e4-c9ca-a2c33612ce84",
        "colab": {
          "base_uri": "https://localhost:8080/",
          "height": 830
        }
      },
      "source": [
        "# upload CSV file\n",
        "globalDev = pd.read_csv('global_development.csv')\n",
        "globalDev"
      ],
      "execution_count": 0,
      "outputs": [
        {
          "output_type": "execute_result",
          "data": {
            "text/html": [
              "<div>\n",
              "<style scoped>\n",
              "    .dataframe tbody tr th:only-of-type {\n",
              "        vertical-align: middle;\n",
              "    }\n",
              "\n",
              "    .dataframe tbody tr th {\n",
              "        vertical-align: top;\n",
              "    }\n",
              "\n",
              "    .dataframe thead th {\n",
              "        text-align: right;\n",
              "    }\n",
              "</style>\n",
              "<table border=\"1\" class=\"dataframe\">\n",
              "  <thead>\n",
              "    <tr style=\"text-align: right;\">\n",
              "      <th></th>\n",
              "      <th>Country</th>\n",
              "      <th>Year</th>\n",
              "      <th>Data.Health.Birth Rate</th>\n",
              "      <th>Data.Health.Death Rate</th>\n",
              "      <th>Data.Health.Fertility Rate</th>\n",
              "      <th>Data.Health.Life Expectancy at Birth, Female</th>\n",
              "      <th>Data.Health.Life Expectancy at Birth, Male</th>\n",
              "      <th>Data.Health.Life Expectancy at Birth, Total</th>\n",
              "      <th>Data.Health.Population Growth</th>\n",
              "      <th>Data.Health.Total Population</th>\n",
              "      <th>Data.Infrastructure.Mobile Cellular Subscriptions</th>\n",
              "      <th>Data.Infrastructure.Mobile Cellular Subscriptions per 100 People</th>\n",
              "      <th>Data.Infrastructure.Telephone Lines</th>\n",
              "      <th>Data.Infrastructure.Telephone Lines per 100 People</th>\n",
              "      <th>Data.Rural Development.Agricultural Land</th>\n",
              "      <th>Data.Rural Development.Agricultural Land Percent</th>\n",
              "      <th>Data.Rural Development.Arable Land</th>\n",
              "      <th>Data.Rural Development.Arable Land Percent</th>\n",
              "      <th>Data.Rural Development.Land Area</th>\n",
              "      <th>Data.Rural Development.Rural Population</th>\n",
              "      <th>Data.Rural Development.Rural Population Growth</th>\n",
              "      <th>Data.Rural Development.Surface Area</th>\n",
              "      <th>Data.Urban Development.Population Density</th>\n",
              "      <th>Data.Urban Development.Urban Population Percent</th>\n",
              "      <th>Data.Urban Development.Urban Population Percent Growth</th>\n",
              "    </tr>\n",
              "  </thead>\n",
              "  <tbody>\n",
              "    <tr>\n",
              "      <th>0</th>\n",
              "      <td>Canada</td>\n",
              "      <td>1980</td>\n",
              "      <td>15.400000</td>\n",
              "      <td>7.000000</td>\n",
              "      <td>1.754000</td>\n",
              "      <td>78.590000</td>\n",
              "      <td>71.320000</td>\n",
              "      <td>74.866341</td>\n",
              "      <td>0.997669</td>\n",
              "      <td>24277000.0</td>\n",
              "      <td>0.0</td>\n",
              "      <td>0.000000</td>\n",
              "      <td>9595000.0</td>\n",
              "      <td>39.562351</td>\n",
              "      <td>669030.0</td>\n",
              "      <td>7.357225</td>\n",
              "      <td>1.827821</td>\n",
              "      <td>4.879744</td>\n",
              "      <td>9093510.0</td>\n",
              "      <td>5918004</td>\n",
              "      <td>0.833712</td>\n",
              "      <td>9984670.0</td>\n",
              "      <td>2.669706</td>\n",
              "      <td>75.623000</td>\n",
              "      <td>1.050578</td>\n",
              "    </tr>\n",
              "    <tr>\n",
              "      <th>1</th>\n",
              "      <td>Canada</td>\n",
              "      <td>1981</td>\n",
              "      <td>15.400000</td>\n",
              "      <td>7.100000</td>\n",
              "      <td>1.740000</td>\n",
              "      <td>78.730000</td>\n",
              "      <td>71.600000</td>\n",
              "      <td>75.078049</td>\n",
              "      <td>1.293245</td>\n",
              "      <td>24593000.0</td>\n",
              "      <td>0.0</td>\n",
              "      <td>0.000000</td>\n",
              "      <td>9979000.0</td>\n",
              "      <td>40.712240</td>\n",
              "      <td>663960.0</td>\n",
              "      <td>7.301471</td>\n",
              "      <td>1.818526</td>\n",
              "      <td>4.918123</td>\n",
              "      <td>9093510.0</td>\n",
              "      <td>5985198</td>\n",
              "      <td>1.129019</td>\n",
              "      <td>9984670.0</td>\n",
              "      <td>2.704456</td>\n",
              "      <td>75.663000</td>\n",
              "      <td>1.346126</td>\n",
              "    </tr>\n",
              "    <tr>\n",
              "      <th>2</th>\n",
              "      <td>Canada</td>\n",
              "      <td>1982</td>\n",
              "      <td>15.300000</td>\n",
              "      <td>7.000000</td>\n",
              "      <td>1.700000</td>\n",
              "      <td>79.110000</td>\n",
              "      <td>72.020000</td>\n",
              "      <td>75.478537</td>\n",
              "      <td>1.240595</td>\n",
              "      <td>24900000.0</td>\n",
              "      <td>0.0</td>\n",
              "      <td>0.000000</td>\n",
              "      <td>10294500.0</td>\n",
              "      <td>41.570761</td>\n",
              "      <td>658890.0</td>\n",
              "      <td>7.245717</td>\n",
              "      <td>1.810120</td>\n",
              "      <td>4.956502</td>\n",
              "      <td>9093510.0</td>\n",
              "      <td>6047712</td>\n",
              "      <td>1.039060</td>\n",
              "      <td>9984670.0</td>\n",
              "      <td>2.738217</td>\n",
              "      <td>75.712000</td>\n",
              "      <td>1.305333</td>\n",
              "    </tr>\n",
              "    <tr>\n",
              "      <th>3</th>\n",
              "      <td>Canada</td>\n",
              "      <td>1983</td>\n",
              "      <td>15.100000</td>\n",
              "      <td>7.100000</td>\n",
              "      <td>1.690000</td>\n",
              "      <td>79.230000</td>\n",
              "      <td>72.300000</td>\n",
              "      <td>75.680488</td>\n",
              "      <td>1.205555</td>\n",
              "      <td>25202000.0</td>\n",
              "      <td>0.0</td>\n",
              "      <td>0.000000</td>\n",
              "      <td>10335442.0</td>\n",
              "      <td>41.320642</td>\n",
              "      <td>662760.0</td>\n",
              "      <td>7.288275</td>\n",
              "      <td>1.789779</td>\n",
              "      <td>4.960241</td>\n",
              "      <td>9093510.0</td>\n",
              "      <td>6080235</td>\n",
              "      <td>0.536333</td>\n",
              "      <td>9984670.0</td>\n",
              "      <td>2.771427</td>\n",
              "      <td>75.874000</td>\n",
              "      <td>1.419293</td>\n",
              "    </tr>\n",
              "    <tr>\n",
              "      <th>4</th>\n",
              "      <td>Canada</td>\n",
              "      <td>1984</td>\n",
              "      <td>15.000000</td>\n",
              "      <td>7.000000</td>\n",
              "      <td>1.680000</td>\n",
              "      <td>79.550000</td>\n",
              "      <td>72.690000</td>\n",
              "      <td>76.036341</td>\n",
              "      <td>1.002812</td>\n",
              "      <td>25456000.0</td>\n",
              "      <td>0.0</td>\n",
              "      <td>0.000000</td>\n",
              "      <td>10468344.0</td>\n",
              "      <td>41.429346</td>\n",
              "      <td>666640.0</td>\n",
              "      <td>7.330943</td>\n",
              "      <td>1.773217</td>\n",
              "      <td>4.963870</td>\n",
              "      <td>9093510.0</td>\n",
              "      <td>6100530</td>\n",
              "      <td>0.333231</td>\n",
              "      <td>9984670.0</td>\n",
              "      <td>2.799359</td>\n",
              "      <td>76.035000</td>\n",
              "      <td>1.214785</td>\n",
              "    </tr>\n",
              "    <tr>\n",
              "      <th>...</th>\n",
              "      <td>...</td>\n",
              "      <td>...</td>\n",
              "      <td>...</td>\n",
              "      <td>...</td>\n",
              "      <td>...</td>\n",
              "      <td>...</td>\n",
              "      <td>...</td>\n",
              "      <td>...</td>\n",
              "      <td>...</td>\n",
              "      <td>...</td>\n",
              "      <td>...</td>\n",
              "      <td>...</td>\n",
              "      <td>...</td>\n",
              "      <td>...</td>\n",
              "      <td>...</td>\n",
              "      <td>...</td>\n",
              "      <td>...</td>\n",
              "      <td>...</td>\n",
              "      <td>...</td>\n",
              "      <td>...</td>\n",
              "      <td>...</td>\n",
              "      <td>...</td>\n",
              "      <td>...</td>\n",
              "      <td>...</td>\n",
              "      <td>...</td>\n",
              "    </tr>\n",
              "    <tr>\n",
              "      <th>6421</th>\n",
              "      <td>Heavily indebted poor countries (HIPC)</td>\n",
              "      <td>2009</td>\n",
              "      <td>39.694362</td>\n",
              "      <td>11.568275</td>\n",
              "      <td>5.448853</td>\n",
              "      <td>57.314810</td>\n",
              "      <td>55.042182</td>\n",
              "      <td>56.149510</td>\n",
              "      <td>2.755547</td>\n",
              "      <td>589184942.0</td>\n",
              "      <td>147770799.0</td>\n",
              "      <td>24.770483</td>\n",
              "      <td>6166312.0</td>\n",
              "      <td>1.090721</td>\n",
              "      <td>7945495.4</td>\n",
              "      <td>40.224998</td>\n",
              "      <td>0.259585</td>\n",
              "      <td>7.742953</td>\n",
              "      <td>19752631.0</td>\n",
              "      <td>404203594</td>\n",
              "      <td>2.132400</td>\n",
              "      <td>20392171.0</td>\n",
              "      <td>29.828175</td>\n",
              "      <td>31.396143</td>\n",
              "      <td>4.144006</td>\n",
              "    </tr>\n",
              "    <tr>\n",
              "      <th>6422</th>\n",
              "      <td>Heavily indebted poor countries (HIPC)</td>\n",
              "      <td>2010</td>\n",
              "      <td>39.249875</td>\n",
              "      <td>11.239563</td>\n",
              "      <td>5.363884</td>\n",
              "      <td>57.941917</td>\n",
              "      <td>55.580622</td>\n",
              "      <td>56.731231</td>\n",
              "      <td>2.742284</td>\n",
              "      <td>605342064.0</td>\n",
              "      <td>189207562.0</td>\n",
              "      <td>30.867486</td>\n",
              "      <td>6631939.0</td>\n",
              "      <td>1.081940</td>\n",
              "      <td>7956893.3</td>\n",
              "      <td>40.282701</td>\n",
              "      <td>0.254637</td>\n",
              "      <td>7.803635</td>\n",
              "      <td>19752631.0</td>\n",
              "      <td>412723475</td>\n",
              "      <td>2.107819</td>\n",
              "      <td>20392171.0</td>\n",
              "      <td>30.646149</td>\n",
              "      <td>31.819793</td>\n",
              "      <td>4.128655</td>\n",
              "    </tr>\n",
              "    <tr>\n",
              "      <th>6423</th>\n",
              "      <td>Heavily indebted poor countries (HIPC)</td>\n",
              "      <td>2011</td>\n",
              "      <td>38.807293</td>\n",
              "      <td>10.936774</td>\n",
              "      <td>5.278963</td>\n",
              "      <td>58.533726</td>\n",
              "      <td>56.080300</td>\n",
              "      <td>57.275881</td>\n",
              "      <td>2.728734</td>\n",
              "      <td>621860240.0</td>\n",
              "      <td>235202000.0</td>\n",
              "      <td>37.347868</td>\n",
              "      <td>6962032.0</td>\n",
              "      <td>1.105505</td>\n",
              "      <td>7980605.0</td>\n",
              "      <td>40.402744</td>\n",
              "      <td>0.251078</td>\n",
              "      <td>7.904542</td>\n",
              "      <td>19752631.0</td>\n",
              "      <td>421313384</td>\n",
              "      <td>2.081275</td>\n",
              "      <td>20392171.0</td>\n",
              "      <td>31.482400</td>\n",
              "      <td>32.249506</td>\n",
              "      <td>4.116045</td>\n",
              "    </tr>\n",
              "    <tr>\n",
              "      <th>6424</th>\n",
              "      <td>Heavily indebted poor countries (HIPC)</td>\n",
              "      <td>2012</td>\n",
              "      <td>38.366140</td>\n",
              "      <td>10.661019</td>\n",
              "      <td>5.194085</td>\n",
              "      <td>59.080577</td>\n",
              "      <td>56.538581</td>\n",
              "      <td>57.777390</td>\n",
              "      <td>2.714024</td>\n",
              "      <td>638737676.0</td>\n",
              "      <td>293179622.0</td>\n",
              "      <td>45.899848</td>\n",
              "      <td>7157282.0</td>\n",
              "      <td>1.120535</td>\n",
              "      <td>7717875.0</td>\n",
              "      <td>39.072643</td>\n",
              "      <td>0.243605</td>\n",
              "      <td>7.877416</td>\n",
              "      <td>19752631.0</td>\n",
              "      <td>429969441</td>\n",
              "      <td>2.054541</td>\n",
              "      <td>19765718.5</td>\n",
              "      <td>32.336840</td>\n",
              "      <td>32.684503</td>\n",
              "      <td>4.099480</td>\n",
              "    </tr>\n",
              "    <tr>\n",
              "      <th>6425</th>\n",
              "      <td>Heavily indebted poor countries (HIPC)</td>\n",
              "      <td>2013</td>\n",
              "      <td>37.924698</td>\n",
              "      <td>10.407943</td>\n",
              "      <td>5.109213</td>\n",
              "      <td>59.585337</td>\n",
              "      <td>56.962692</td>\n",
              "      <td>58.240852</td>\n",
              "      <td>2.698148</td>\n",
              "      <td>655971763.0</td>\n",
              "      <td>341051556.0</td>\n",
              "      <td>51.991804</td>\n",
              "      <td>7127675.0</td>\n",
              "      <td>1.086583</td>\n",
              "      <td>7837685.1</td>\n",
              "      <td>39.676293</td>\n",
              "      <td>0.253896</td>\n",
              "      <td>8.431096</td>\n",
              "      <td>19754076.0</td>\n",
              "      <td>438680058</td>\n",
              "      <td>2.025869</td>\n",
              "      <td>19767153.5</td>\n",
              "      <td>33.206907</td>\n",
              "      <td>33.125161</td>\n",
              "      <td>4.082743</td>\n",
              "    </tr>\n",
              "  </tbody>\n",
              "</table>\n",
              "<p>6426 rows × 25 columns</p>\n",
              "</div>"
            ],
            "text/plain": [
              "                                     Country  ...  Data.Urban Development.Urban Population Percent Growth\n",
              "0                                     Canada  ...                                           1.050578     \n",
              "1                                     Canada  ...                                           1.346126     \n",
              "2                                     Canada  ...                                           1.305333     \n",
              "3                                     Canada  ...                                           1.419293     \n",
              "4                                     Canada  ...                                           1.214785     \n",
              "...                                      ...  ...                                                ...     \n",
              "6421  Heavily indebted poor countries (HIPC)  ...                                           4.144006     \n",
              "6422  Heavily indebted poor countries (HIPC)  ...                                           4.128655     \n",
              "6423  Heavily indebted poor countries (HIPC)  ...                                           4.116045     \n",
              "6424  Heavily indebted poor countries (HIPC)  ...                                           4.099480     \n",
              "6425  Heavily indebted poor countries (HIPC)  ...                                           4.082743     \n",
              "\n",
              "[6426 rows x 25 columns]"
            ]
          },
          "metadata": {
            "tags": []
          },
          "execution_count": 3
        }
      ]
    },
    {
      "cell_type": "code",
      "metadata": {
        "id": "Pi53Y27TKWKv",
        "colab_type": "code",
        "outputId": "bf7d8752-ff6c-48ac-97a0-645d8d422327",
        "colab": {
          "base_uri": "https://localhost:8080/",
          "height": 527
        }
      },
      "source": [
        "globalDev.info()"
      ],
      "execution_count": 0,
      "outputs": [
        {
          "output_type": "stream",
          "text": [
            "<class 'pandas.core.frame.DataFrame'>\n",
            "RangeIndex: 6426 entries, 0 to 6425\n",
            "Data columns (total 25 columns):\n",
            "Country                                                             6426 non-null object\n",
            "Year                                                                6426 non-null int64\n",
            "Data.Health.Birth Rate                                              6426 non-null float64\n",
            "Data.Health.Death Rate                                              6426 non-null float64\n",
            "Data.Health.Fertility Rate                                          6426 non-null float64\n",
            "Data.Health.Life Expectancy at Birth, Female                        6426 non-null float64\n",
            "Data.Health.Life Expectancy at Birth, Male                          6426 non-null float64\n",
            "Data.Health.Life Expectancy at Birth, Total                         6426 non-null float64\n",
            "Data.Health.Population Growth                                       6426 non-null float64\n",
            "Data.Health.Total Population                                        6426 non-null float64\n",
            "Data.Infrastructure.Mobile Cellular Subscriptions                   6426 non-null float64\n",
            "Data.Infrastructure.Mobile Cellular Subscriptions per 100 People    6426 non-null float64\n",
            "Data.Infrastructure.Telephone Lines                                 6426 non-null float64\n",
            "Data.Infrastructure.Telephone Lines per 100 People                  6426 non-null float64\n",
            "Data.Rural Development.Agricultural Land                            6426 non-null float64\n",
            "Data.Rural Development.Agricultural Land Percent                    6426 non-null float64\n",
            "Data.Rural Development.Arable Land                                  6426 non-null float64\n",
            "Data.Rural Development.Arable Land Percent                          6426 non-null float64\n",
            "Data.Rural Development.Land Area                                    6426 non-null float64\n",
            "Data.Rural Development.Rural Population                             6426 non-null int64\n",
            "Data.Rural Development.Rural Population Growth                      6426 non-null float64\n",
            "Data.Rural Development.Surface Area                                 6426 non-null float64\n",
            "Data.Urban Development.Population Density                           6426 non-null float64\n",
            "Data.Urban Development.Urban Population Percent                     6426 non-null float64\n",
            "Data.Urban Development.Urban Population Percent Growth              6426 non-null float64\n",
            "dtypes: float64(22), int64(2), object(1)\n",
            "memory usage: 1.2+ MB\n"
          ],
          "name": "stdout"
        }
      ]
    },
    {
      "cell_type": "code",
      "metadata": {
        "id": "O14ZQxPPuXPJ",
        "colab_type": "code",
        "outputId": "bdae8b5b-a43c-4ed2-cbad-967befe79d47",
        "colab": {
          "base_uri": "https://localhost:8080/",
          "height": 459
        }
      },
      "source": [
        "# check for missing data\n",
        "globalDev.isna().sum()"
      ],
      "execution_count": 0,
      "outputs": [
        {
          "output_type": "execute_result",
          "data": {
            "text/plain": [
              "Country                                                             0\n",
              "Year                                                                0\n",
              "Data.Health.Birth Rate                                              0\n",
              "Data.Health.Death Rate                                              0\n",
              "Data.Health.Fertility Rate                                          0\n",
              "Data.Health.Life Expectancy at Birth, Female                        0\n",
              "Data.Health.Life Expectancy at Birth, Male                          0\n",
              "Data.Health.Life Expectancy at Birth, Total                         0\n",
              "Data.Health.Population Growth                                       0\n",
              "Data.Health.Total Population                                        0\n",
              "Data.Infrastructure.Mobile Cellular Subscriptions                   0\n",
              "Data.Infrastructure.Mobile Cellular Subscriptions per 100 People    0\n",
              "Data.Infrastructure.Telephone Lines                                 0\n",
              "Data.Infrastructure.Telephone Lines per 100 People                  0\n",
              "Data.Rural Development.Agricultural Land                            0\n",
              "Data.Rural Development.Agricultural Land Percent                    0\n",
              "Data.Rural Development.Arable Land                                  0\n",
              "Data.Rural Development.Arable Land Percent                          0\n",
              "Data.Rural Development.Land Area                                    0\n",
              "Data.Rural Development.Rural Population                             0\n",
              "Data.Rural Development.Rural Population Growth                      0\n",
              "Data.Rural Development.Surface Area                                 0\n",
              "Data.Urban Development.Population Density                           0\n",
              "Data.Urban Development.Urban Population Percent                     0\n",
              "Data.Urban Development.Urban Population Percent Growth              0\n",
              "dtype: int64"
            ]
          },
          "metadata": {
            "tags": []
          },
          "execution_count": 5
        }
      ]
    },
    {
      "cell_type": "code",
      "metadata": {
        "id": "a5VnH-qp24Co",
        "colab_type": "code",
        "colab": {}
      },
      "source": [
        "# East African Countries\n",
        "east_africa = ['Uganda','Tanzania','Kenya','Rwanda']\n",
        "globalEA = globalDev[globalDev.Country.isin(east_africa)]\n"
      ],
      "execution_count": 0,
      "outputs": []
    },
    {
      "cell_type": "code",
      "metadata": {
        "id": "BBPFVZbQ3IHg",
        "colab_type": "code",
        "outputId": "d4befc20-146d-4f90-cb8c-5f11f3661241",
        "colab": {
          "base_uri": "https://localhost:8080/",
          "height": 34
        }
      },
      "source": [
        "globalEA['Country'].unique()"
      ],
      "execution_count": 0,
      "outputs": [
        {
          "output_type": "execute_result",
          "data": {
            "text/plain": [
              "array(['Tanzania', 'Rwanda', 'Kenya', 'Uganda'], dtype=object)"
            ]
          },
          "metadata": {
            "tags": []
          },
          "execution_count": 7
        }
      ]
    },
    {
      "cell_type": "code",
      "metadata": {
        "id": "ZQoGr2Hxor21",
        "colab_type": "code",
        "colab": {}
      },
      "source": [
        "# export to CSV\n",
        "globalEA.to_csv('globalEA.csv', index=False)"
      ],
      "execution_count": 0,
      "outputs": []
    },
    {
      "cell_type": "code",
      "metadata": {
        "id": "mirvCmlurMUc",
        "colab_type": "code",
        "outputId": "622eb916-8f4b-4e27-eb1b-42fe2997adbb",
        "colab": {
          "base_uri": "https://localhost:8080/",
          "height": 459
        }
      },
      "source": [
        "# check for missing data\n",
        "globalEA.isna().sum()"
      ],
      "execution_count": 0,
      "outputs": [
        {
          "output_type": "execute_result",
          "data": {
            "text/plain": [
              "Country                                                             0\n",
              "Year                                                                0\n",
              "Data.Health.Birth Rate                                              0\n",
              "Data.Health.Death Rate                                              0\n",
              "Data.Health.Fertility Rate                                          0\n",
              "Data.Health.Life Expectancy at Birth, Female                        0\n",
              "Data.Health.Life Expectancy at Birth, Male                          0\n",
              "Data.Health.Life Expectancy at Birth, Total                         0\n",
              "Data.Health.Population Growth                                       0\n",
              "Data.Health.Total Population                                        0\n",
              "Data.Infrastructure.Mobile Cellular Subscriptions                   0\n",
              "Data.Infrastructure.Mobile Cellular Subscriptions per 100 People    0\n",
              "Data.Infrastructure.Telephone Lines                                 0\n",
              "Data.Infrastructure.Telephone Lines per 100 People                  0\n",
              "Data.Rural Development.Agricultural Land                            0\n",
              "Data.Rural Development.Agricultural Land Percent                    0\n",
              "Data.Rural Development.Arable Land                                  0\n",
              "Data.Rural Development.Arable Land Percent                          0\n",
              "Data.Rural Development.Land Area                                    0\n",
              "Data.Rural Development.Rural Population                             0\n",
              "Data.Rural Development.Rural Population Growth                      0\n",
              "Data.Rural Development.Surface Area                                 0\n",
              "Data.Urban Development.Population Density                           0\n",
              "Data.Urban Development.Urban Population Percent                     0\n",
              "Data.Urban Development.Urban Population Percent Growth              0\n",
              "dtype: int64"
            ]
          },
          "metadata": {
            "tags": []
          },
          "execution_count": 9
        }
      ]
    },
    {
      "cell_type": "code",
      "metadata": {
        "id": "02z45sXlFlf3",
        "colab_type": "code",
        "outputId": "c86efb1d-bbd6-4814-dc82-de58435778b8",
        "colab": {
          "base_uri": "https://localhost:8080/",
          "height": 459
        }
      },
      "source": [
        "# Validating the data types \n",
        "globalEA.dtypes"
      ],
      "execution_count": 0,
      "outputs": [
        {
          "output_type": "execute_result",
          "data": {
            "text/plain": [
              "Country                                                              object\n",
              "Year                                                                  int64\n",
              "Data.Health.Birth Rate                                              float64\n",
              "Data.Health.Death Rate                                              float64\n",
              "Data.Health.Fertility Rate                                          float64\n",
              "Data.Health.Life Expectancy at Birth, Female                        float64\n",
              "Data.Health.Life Expectancy at Birth, Male                          float64\n",
              "Data.Health.Life Expectancy at Birth, Total                         float64\n",
              "Data.Health.Population Growth                                       float64\n",
              "Data.Health.Total Population                                        float64\n",
              "Data.Infrastructure.Mobile Cellular Subscriptions                   float64\n",
              "Data.Infrastructure.Mobile Cellular Subscriptions per 100 People    float64\n",
              "Data.Infrastructure.Telephone Lines                                 float64\n",
              "Data.Infrastructure.Telephone Lines per 100 People                  float64\n",
              "Data.Rural Development.Agricultural Land                            float64\n",
              "Data.Rural Development.Agricultural Land Percent                    float64\n",
              "Data.Rural Development.Arable Land                                  float64\n",
              "Data.Rural Development.Arable Land Percent                          float64\n",
              "Data.Rural Development.Land Area                                    float64\n",
              "Data.Rural Development.Rural Population                               int64\n",
              "Data.Rural Development.Rural Population Growth                      float64\n",
              "Data.Rural Development.Surface Area                                 float64\n",
              "Data.Urban Development.Population Density                           float64\n",
              "Data.Urban Development.Urban Population Percent                     float64\n",
              "Data.Urban Development.Urban Population Percent Growth              float64\n",
              "dtype: object"
            ]
          },
          "metadata": {
            "tags": []
          },
          "execution_count": 10
        }
      ]
    },
    {
      "cell_type": "code",
      "metadata": {
        "id": "1gd8xkPdGYz9",
        "colab_type": "code",
        "outputId": "b60891a7-586b-43d1-ca35-af6e5796297d",
        "colab": {
          "base_uri": "https://localhost:8080/",
          "height": 119
        }
      },
      "source": [
        "# Changing the Data Rural Development Population to float\n",
        "globalEA['Data.Rural Development.Rural Population'] = globalEA['Data.Rural Development.Rural Population'].astype(float)"
      ],
      "execution_count": 0,
      "outputs": [
        {
          "output_type": "stream",
          "text": [
            "/usr/local/lib/python3.6/dist-packages/ipykernel_launcher.py:1: SettingWithCopyWarning: \n",
            "A value is trying to be set on a copy of a slice from a DataFrame.\n",
            "Try using .loc[row_indexer,col_indexer] = value instead\n",
            "\n",
            "See the caveats in the documentation: http://pandas.pydata.org/pandas-docs/stable/user_guide/indexing.html#returning-a-view-versus-a-copy\n",
            "  \"\"\"Entry point for launching an IPython kernel.\n"
          ],
          "name": "stderr"
        }
      ]
    },
    {
      "cell_type": "code",
      "metadata": {
        "id": "Tqvb60V5GhrZ",
        "colab_type": "code",
        "outputId": "2c639ff9-4ba8-43a7-f094-7068f7070b5d",
        "colab": {
          "base_uri": "https://localhost:8080/",
          "height": 459
        }
      },
      "source": [
        "globalEA.dtypes"
      ],
      "execution_count": 0,
      "outputs": [
        {
          "output_type": "execute_result",
          "data": {
            "text/plain": [
              "Country                                                              object\n",
              "Year                                                                  int64\n",
              "Data.Health.Birth Rate                                              float64\n",
              "Data.Health.Death Rate                                              float64\n",
              "Data.Health.Fertility Rate                                          float64\n",
              "Data.Health.Life Expectancy at Birth, Female                        float64\n",
              "Data.Health.Life Expectancy at Birth, Male                          float64\n",
              "Data.Health.Life Expectancy at Birth, Total                         float64\n",
              "Data.Health.Population Growth                                       float64\n",
              "Data.Health.Total Population                                        float64\n",
              "Data.Infrastructure.Mobile Cellular Subscriptions                   float64\n",
              "Data.Infrastructure.Mobile Cellular Subscriptions per 100 People    float64\n",
              "Data.Infrastructure.Telephone Lines                                 float64\n",
              "Data.Infrastructure.Telephone Lines per 100 People                  float64\n",
              "Data.Rural Development.Agricultural Land                            float64\n",
              "Data.Rural Development.Agricultural Land Percent                    float64\n",
              "Data.Rural Development.Arable Land                                  float64\n",
              "Data.Rural Development.Arable Land Percent                          float64\n",
              "Data.Rural Development.Land Area                                    float64\n",
              "Data.Rural Development.Rural Population                             float64\n",
              "Data.Rural Development.Rural Population Growth                      float64\n",
              "Data.Rural Development.Surface Area                                 float64\n",
              "Data.Urban Development.Population Density                           float64\n",
              "Data.Urban Development.Urban Population Percent                     float64\n",
              "Data.Urban Development.Urban Population Percent Growth              float64\n",
              "dtype: object"
            ]
          },
          "metadata": {
            "tags": []
          },
          "execution_count": 12
        }
      ]
    },
    {
      "cell_type": "code",
      "metadata": {
        "id": "mOUkwTQC0qLN",
        "colab_type": "code",
        "outputId": "11b8181a-cbac-4df4-c178-966eb7d3b2e6",
        "colab": {
          "base_uri": "https://localhost:8080/",
          "height": 575
        }
      },
      "source": [
        "# Dropping columns\n",
        "globalEA.drop(['Data.Infrastructure.Telephone Lines','Data.Infrastructure.Telephone Lines per 100 People','Data.Rural Development.Arable Land','Data.Rural Development.Arable Land Percent'], axis= 1,inplace=True)\n",
        "globalEA"
      ],
      "execution_count": 0,
      "outputs": [
        {
          "output_type": "stream",
          "text": [
            "/usr/local/lib/python3.6/dist-packages/pandas/core/frame.py:4117: SettingWithCopyWarning: \n",
            "A value is trying to be set on a copy of a slice from a DataFrame\n",
            "\n",
            "See the caveats in the documentation: http://pandas.pydata.org/pandas-docs/stable/user_guide/indexing.html#returning-a-view-versus-a-copy\n",
            "  errors=errors,\n"
          ],
          "name": "stderr"
        },
        {
          "output_type": "execute_result",
          "data": {
            "text/html": [
              "<div>\n",
              "<style scoped>\n",
              "    .dataframe tbody tr th:only-of-type {\n",
              "        vertical-align: middle;\n",
              "    }\n",
              "\n",
              "    .dataframe tbody tr th {\n",
              "        vertical-align: top;\n",
              "    }\n",
              "\n",
              "    .dataframe thead th {\n",
              "        text-align: right;\n",
              "    }\n",
              "</style>\n",
              "<table border=\"1\" class=\"dataframe\">\n",
              "  <thead>\n",
              "    <tr style=\"text-align: right;\">\n",
              "      <th></th>\n",
              "      <th>Country</th>\n",
              "      <th>Year</th>\n",
              "      <th>Data.Health.Birth Rate</th>\n",
              "      <th>Data.Health.Death Rate</th>\n",
              "      <th>Data.Health.Fertility Rate</th>\n",
              "      <th>Data.Health.Life Expectancy at Birth, Female</th>\n",
              "      <th>Data.Health.Life Expectancy at Birth, Male</th>\n",
              "      <th>Data.Health.Life Expectancy at Birth, Total</th>\n",
              "      <th>Data.Health.Population Growth</th>\n",
              "      <th>Data.Health.Total Population</th>\n",
              "      <th>Data.Infrastructure.Mobile Cellular Subscriptions</th>\n",
              "      <th>Data.Infrastructure.Mobile Cellular Subscriptions per 100 People</th>\n",
              "      <th>Data.Rural Development.Agricultural Land</th>\n",
              "      <th>Data.Rural Development.Agricultural Land Percent</th>\n",
              "      <th>Data.Rural Development.Land Area</th>\n",
              "      <th>Data.Rural Development.Rural Population</th>\n",
              "      <th>Data.Rural Development.Rural Population Growth</th>\n",
              "      <th>Data.Rural Development.Surface Area</th>\n",
              "      <th>Data.Urban Development.Population Density</th>\n",
              "      <th>Data.Urban Development.Urban Population Percent</th>\n",
              "      <th>Data.Urban Development.Urban Population Percent Growth</th>\n",
              "    </tr>\n",
              "  </thead>\n",
              "  <tbody>\n",
              "    <tr>\n",
              "      <th>952</th>\n",
              "      <td>Tanzania</td>\n",
              "      <td>1980</td>\n",
              "      <td>46.995</td>\n",
              "      <td>15.596</td>\n",
              "      <td>6.685</td>\n",
              "      <td>51.987</td>\n",
              "      <td>48.647</td>\n",
              "      <td>50.276268</td>\n",
              "      <td>3.116857</td>\n",
              "      <td>18111999.0</td>\n",
              "      <td>0.0</td>\n",
              "      <td>0.000000</td>\n",
              "      <td>330000.0</td>\n",
              "      <td>37.254459</td>\n",
              "      <td>885800.0</td>\n",
              "      <td>15550781.0</td>\n",
              "      <td>2.557041</td>\n",
              "      <td>947300.0</td>\n",
              "      <td>20.447052</td>\n",
              "      <td>14.141</td>\n",
              "      <td>6.584829</td>\n",
              "    </tr>\n",
              "    <tr>\n",
              "      <th>953</th>\n",
              "      <td>Tanzania</td>\n",
              "      <td>1981</td>\n",
              "      <td>46.739</td>\n",
              "      <td>15.425</td>\n",
              "      <td>6.653</td>\n",
              "      <td>52.191</td>\n",
              "      <td>48.876</td>\n",
              "      <td>50.493073</td>\n",
              "      <td>3.124317</td>\n",
              "      <td>18686808.0</td>\n",
              "      <td>0.0</td>\n",
              "      <td>0.000000</td>\n",
              "      <td>330000.0</td>\n",
              "      <td>37.254459</td>\n",
              "      <td>885800.0</td>\n",
              "      <td>15966943.0</td>\n",
              "      <td>2.640966</td>\n",
              "      <td>947300.0</td>\n",
              "      <td>21.095967</td>\n",
              "      <td>14.555</td>\n",
              "      <td>6.009932</td>\n",
              "    </tr>\n",
              "    <tr>\n",
              "      <th>954</th>\n",
              "      <td>Tanzania</td>\n",
              "      <td>1982</td>\n",
              "      <td>46.469</td>\n",
              "      <td>15.279</td>\n",
              "      <td>6.618</td>\n",
              "      <td>52.359</td>\n",
              "      <td>49.065</td>\n",
              "      <td>50.671829</td>\n",
              "      <td>3.136535</td>\n",
              "      <td>19282215.0</td>\n",
              "      <td>0.0</td>\n",
              "      <td>0.000000</td>\n",
              "      <td>330000.0</td>\n",
              "      <td>37.254459</td>\n",
              "      <td>885800.0</td>\n",
              "      <td>16394510.0</td>\n",
              "      <td>2.642600</td>\n",
              "      <td>947300.0</td>\n",
              "      <td>21.768136</td>\n",
              "      <td>14.976</td>\n",
              "      <td>5.987982</td>\n",
              "    </tr>\n",
              "    <tr>\n",
              "      <th>955</th>\n",
              "      <td>Tanzania</td>\n",
              "      <td>1983</td>\n",
              "      <td>46.199</td>\n",
              "      <td>15.149</td>\n",
              "      <td>6.580</td>\n",
              "      <td>52.508</td>\n",
              "      <td>49.227</td>\n",
              "      <td>50.827488</td>\n",
              "      <td>3.143771</td>\n",
              "      <td>19898033.0</td>\n",
              "      <td>0.0</td>\n",
              "      <td>0.000000</td>\n",
              "      <td>330000.0</td>\n",
              "      <td>37.254459</td>\n",
              "      <td>885800.0</td>\n",
              "      <td>16831945.0</td>\n",
              "      <td>2.633205</td>\n",
              "      <td>947300.0</td>\n",
              "      <td>22.463347</td>\n",
              "      <td>15.409</td>\n",
              "      <td>5.994041</td>\n",
              "    </tr>\n",
              "    <tr>\n",
              "      <th>956</th>\n",
              "      <td>Tanzania</td>\n",
              "      <td>1984</td>\n",
              "      <td>45.939</td>\n",
              "      <td>15.029</td>\n",
              "      <td>6.542</td>\n",
              "      <td>52.645</td>\n",
              "      <td>49.368</td>\n",
              "      <td>50.966537</td>\n",
              "      <td>3.139727</td>\n",
              "      <td>20532688.0</td>\n",
              "      <td>0.0</td>\n",
              "      <td>0.000000</td>\n",
              "      <td>330000.0</td>\n",
              "      <td>37.254459</td>\n",
              "      <td>885800.0</td>\n",
              "      <td>17278052.0</td>\n",
              "      <td>2.615846</td>\n",
              "      <td>947300.0</td>\n",
              "      <td>23.179824</td>\n",
              "      <td>15.851</td>\n",
              "      <td>5.967796</td>\n",
              "    </tr>\n",
              "    <tr>\n",
              "      <th>...</th>\n",
              "      <td>...</td>\n",
              "      <td>...</td>\n",
              "      <td>...</td>\n",
              "      <td>...</td>\n",
              "      <td>...</td>\n",
              "      <td>...</td>\n",
              "      <td>...</td>\n",
              "      <td>...</td>\n",
              "      <td>...</td>\n",
              "      <td>...</td>\n",
              "      <td>...</td>\n",
              "      <td>...</td>\n",
              "      <td>...</td>\n",
              "      <td>...</td>\n",
              "      <td>...</td>\n",
              "      <td>...</td>\n",
              "      <td>...</td>\n",
              "      <td>...</td>\n",
              "      <td>...</td>\n",
              "      <td>...</td>\n",
              "      <td>...</td>\n",
              "    </tr>\n",
              "    <tr>\n",
              "      <th>3293</th>\n",
              "      <td>Uganda</td>\n",
              "      <td>2009</td>\n",
              "      <td>45.573</td>\n",
              "      <td>11.106</td>\n",
              "      <td>6.338</td>\n",
              "      <td>56.259</td>\n",
              "      <td>55.020</td>\n",
              "      <td>55.624390</td>\n",
              "      <td>3.360077</td>\n",
              "      <td>31778799.0</td>\n",
              "      <td>8554864.0</td>\n",
              "      <td>26.920036</td>\n",
              "      <td>137620.0</td>\n",
              "      <td>68.875432</td>\n",
              "      <td>199810.0</td>\n",
              "      <td>27364088.0</td>\n",
              "      <td>3.021542</td>\n",
              "      <td>241550.0</td>\n",
              "      <td>159.045088</td>\n",
              "      <td>13.892</td>\n",
              "      <td>5.484407</td>\n",
              "    </tr>\n",
              "    <tr>\n",
              "      <th>3294</th>\n",
              "      <td>Uganda</td>\n",
              "      <td>2010</td>\n",
              "      <td>45.115</td>\n",
              "      <td>10.655</td>\n",
              "      <td>6.248</td>\n",
              "      <td>57.258</td>\n",
              "      <td>55.762</td>\n",
              "      <td>56.491756</td>\n",
              "      <td>3.358844</td>\n",
              "      <td>32864328.0</td>\n",
              "      <td>9383734.0</td>\n",
              "      <td>28.552947</td>\n",
              "      <td>139120.0</td>\n",
              "      <td>69.626145</td>\n",
              "      <td>199810.0</td>\n",
              "      <td>28201209.0</td>\n",
              "      <td>3.013335</td>\n",
              "      <td>241550.0</td>\n",
              "      <td>164.477894</td>\n",
              "      <td>14.189</td>\n",
              "      <td>5.474216</td>\n",
              "    </tr>\n",
              "    <tr>\n",
              "      <th>3295</th>\n",
              "      <td>Uganda</td>\n",
              "      <td>2011</td>\n",
              "      <td>44.639</td>\n",
              "      <td>10.239</td>\n",
              "      <td>6.155</td>\n",
              "      <td>58.198</td>\n",
              "      <td>56.438</td>\n",
              "      <td>57.296537</td>\n",
              "      <td>3.359655</td>\n",
              "      <td>33987213.0</td>\n",
              "      <td>12828264.0</td>\n",
              "      <td>37.744383</td>\n",
              "      <td>140620.0</td>\n",
              "      <td>70.376858</td>\n",
              "      <td>199810.0</td>\n",
              "      <td>29061786.0</td>\n",
              "      <td>3.005927</td>\n",
              "      <td>241550.0</td>\n",
              "      <td>170.097658</td>\n",
              "      <td>14.492</td>\n",
              "      <td>5.472643</td>\n",
              "    </tr>\n",
              "    <tr>\n",
              "      <th>3296</th>\n",
              "      <td>Uganda</td>\n",
              "      <td>2012</td>\n",
              "      <td>44.152</td>\n",
              "      <td>9.865</td>\n",
              "      <td>6.060</td>\n",
              "      <td>59.045</td>\n",
              "      <td>57.039</td>\n",
              "      <td>58.017537</td>\n",
              "      <td>3.358517</td>\n",
              "      <td>35148064.0</td>\n",
              "      <td>16696992.0</td>\n",
              "      <td>47.504727</td>\n",
              "      <td>140620.0</td>\n",
              "      <td>70.376858</td>\n",
              "      <td>199810.0</td>\n",
              "      <td>29946151.0</td>\n",
              "      <td>2.997669</td>\n",
              "      <td>241550.0</td>\n",
              "      <td>175.907432</td>\n",
              "      <td>14.800</td>\n",
              "      <td>5.461547</td>\n",
              "    </tr>\n",
              "    <tr>\n",
              "      <th>3297</th>\n",
              "      <td>Uganda</td>\n",
              "      <td>2013</td>\n",
              "      <td>43.654</td>\n",
              "      <td>9.534</td>\n",
              "      <td>5.964</td>\n",
              "      <td>59.783</td>\n",
              "      <td>57.567</td>\n",
              "      <td>58.647976</td>\n",
              "      <td>3.351077</td>\n",
              "      <td>36345860.0</td>\n",
              "      <td>16356387.0</td>\n",
              "      <td>45.002064</td>\n",
              "      <td>142620.0</td>\n",
              "      <td>71.377809</td>\n",
              "      <td>199810.0</td>\n",
              "      <td>30852183.0</td>\n",
              "      <td>2.980671</td>\n",
              "      <td>241550.0</td>\n",
              "      <td>181.902107</td>\n",
              "      <td>15.115</td>\n",
              "      <td>5.457135</td>\n",
              "    </tr>\n",
              "  </tbody>\n",
              "</table>\n",
              "<p>136 rows × 21 columns</p>\n",
              "</div>"
            ],
            "text/plain": [
              "       Country  ...  Data.Urban Development.Urban Population Percent Growth\n",
              "952   Tanzania  ...                                           6.584829     \n",
              "953   Tanzania  ...                                           6.009932     \n",
              "954   Tanzania  ...                                           5.987982     \n",
              "955   Tanzania  ...                                           5.994041     \n",
              "956   Tanzania  ...                                           5.967796     \n",
              "...        ...  ...                                                ...     \n",
              "3293    Uganda  ...                                           5.484407     \n",
              "3294    Uganda  ...                                           5.474216     \n",
              "3295    Uganda  ...                                           5.472643     \n",
              "3296    Uganda  ...                                           5.461547     \n",
              "3297    Uganda  ...                                           5.457135     \n",
              "\n",
              "[136 rows x 21 columns]"
            ]
          },
          "metadata": {
            "tags": []
          },
          "execution_count": 13
        }
      ]
    },
    {
      "cell_type": "code",
      "metadata": {
        "id": "PoxChBQgWON0",
        "colab_type": "code",
        "outputId": "e283310a-2ff7-43c1-d77d-4b08bca08eae",
        "colab": {
          "base_uri": "https://localhost:8080/",
          "height": 221
        }
      },
      "source": [
        "# check duplicates\n",
        "globalEA.duplicated()*1\n"
      ],
      "execution_count": 0,
      "outputs": [
        {
          "output_type": "execute_result",
          "data": {
            "text/plain": [
              "952     0\n",
              "953     0\n",
              "954     0\n",
              "955     0\n",
              "956     0\n",
              "       ..\n",
              "3293    0\n",
              "3294    0\n",
              "3295    0\n",
              "3296    0\n",
              "3297    0\n",
              "Length: 136, dtype: int64"
            ]
          },
          "metadata": {
            "tags": []
          },
          "execution_count": 14
        }
      ]
    },
    {
      "cell_type": "code",
      "metadata": {
        "id": "XSk9budZYT2Z",
        "colab_type": "code",
        "outputId": "4541705e-7fd2-4f26-b329-db6a80677377",
        "colab": {
          "base_uri": "https://localhost:8080/",
          "height": 34
        }
      },
      "source": [
        "# Count duplicates\n",
        "dups = globalEA.groupby(globalEA.columns.tolist()).size().reset_index().rename(columns={0:'count'})\n",
        "dups['count'].sum() "
      ],
      "execution_count": 0,
      "outputs": [
        {
          "output_type": "execute_result",
          "data": {
            "text/plain": [
              "136"
            ]
          },
          "metadata": {
            "tags": []
          },
          "execution_count": 15
        }
      ]
    },
    {
      "cell_type": "markdown",
      "metadata": {
        "id": "WyP737ceZEa2",
        "colab_type": "text"
      },
      "source": [
        "the dataset has no duplicates therefore there was no dropping to be done"
      ]
    },
    {
      "cell_type": "code",
      "metadata": {
        "id": "qIDqy7NkYpCg",
        "colab_type": "code",
        "outputId": "3c493b17-8294-436e-ba65-3bc8e1000e2f",
        "colab": {
          "base_uri": "https://localhost:8080/",
          "height": 224
        }
      },
      "source": [
        "#fixing the messy columns\n",
        "globalEA.columns = globalEA.columns.str.strip().str.lower().str.replace(' ', '_').str.replace('.', '_').str.replace(',','')\n",
        "globalEA.head()"
      ],
      "execution_count": 0,
      "outputs": [
        {
          "output_type": "execute_result",
          "data": {
            "text/html": [
              "<div>\n",
              "<style scoped>\n",
              "    .dataframe tbody tr th:only-of-type {\n",
              "        vertical-align: middle;\n",
              "    }\n",
              "\n",
              "    .dataframe tbody tr th {\n",
              "        vertical-align: top;\n",
              "    }\n",
              "\n",
              "    .dataframe thead th {\n",
              "        text-align: right;\n",
              "    }\n",
              "</style>\n",
              "<table border=\"1\" class=\"dataframe\">\n",
              "  <thead>\n",
              "    <tr style=\"text-align: right;\">\n",
              "      <th></th>\n",
              "      <th>country</th>\n",
              "      <th>year</th>\n",
              "      <th>data_health_birth_rate</th>\n",
              "      <th>data_health_death_rate</th>\n",
              "      <th>data_health_fertility_rate</th>\n",
              "      <th>data_health_life_expectancy_at_birth_female</th>\n",
              "      <th>data_health_life_expectancy_at_birth_male</th>\n",
              "      <th>data_health_life_expectancy_at_birth_total</th>\n",
              "      <th>data_health_population_growth</th>\n",
              "      <th>data_health_total_population</th>\n",
              "      <th>data_infrastructure_mobile_cellular_subscriptions</th>\n",
              "      <th>data_infrastructure_mobile_cellular_subscriptions_per_100_people</th>\n",
              "      <th>data_rural_development_agricultural_land</th>\n",
              "      <th>data_rural_development_agricultural_land_percent</th>\n",
              "      <th>data_rural_development_land_area</th>\n",
              "      <th>data_rural_development_rural_population</th>\n",
              "      <th>data_rural_development_rural_population_growth</th>\n",
              "      <th>data_rural_development_surface_area</th>\n",
              "      <th>data_urban_development_population_density</th>\n",
              "      <th>data_urban_development_urban_population_percent</th>\n",
              "      <th>data_urban_development_urban_population_percent_growth</th>\n",
              "    </tr>\n",
              "  </thead>\n",
              "  <tbody>\n",
              "    <tr>\n",
              "      <th>952</th>\n",
              "      <td>Tanzania</td>\n",
              "      <td>1980</td>\n",
              "      <td>46.995</td>\n",
              "      <td>15.596</td>\n",
              "      <td>6.685</td>\n",
              "      <td>51.987</td>\n",
              "      <td>48.647</td>\n",
              "      <td>50.276268</td>\n",
              "      <td>3.116857</td>\n",
              "      <td>18111999.0</td>\n",
              "      <td>0.0</td>\n",
              "      <td>0.0</td>\n",
              "      <td>330000.0</td>\n",
              "      <td>37.254459</td>\n",
              "      <td>885800.0</td>\n",
              "      <td>15550781.0</td>\n",
              "      <td>2.557041</td>\n",
              "      <td>947300.0</td>\n",
              "      <td>20.447052</td>\n",
              "      <td>14.141</td>\n",
              "      <td>6.584829</td>\n",
              "    </tr>\n",
              "    <tr>\n",
              "      <th>953</th>\n",
              "      <td>Tanzania</td>\n",
              "      <td>1981</td>\n",
              "      <td>46.739</td>\n",
              "      <td>15.425</td>\n",
              "      <td>6.653</td>\n",
              "      <td>52.191</td>\n",
              "      <td>48.876</td>\n",
              "      <td>50.493073</td>\n",
              "      <td>3.124317</td>\n",
              "      <td>18686808.0</td>\n",
              "      <td>0.0</td>\n",
              "      <td>0.0</td>\n",
              "      <td>330000.0</td>\n",
              "      <td>37.254459</td>\n",
              "      <td>885800.0</td>\n",
              "      <td>15966943.0</td>\n",
              "      <td>2.640966</td>\n",
              "      <td>947300.0</td>\n",
              "      <td>21.095967</td>\n",
              "      <td>14.555</td>\n",
              "      <td>6.009932</td>\n",
              "    </tr>\n",
              "    <tr>\n",
              "      <th>954</th>\n",
              "      <td>Tanzania</td>\n",
              "      <td>1982</td>\n",
              "      <td>46.469</td>\n",
              "      <td>15.279</td>\n",
              "      <td>6.618</td>\n",
              "      <td>52.359</td>\n",
              "      <td>49.065</td>\n",
              "      <td>50.671829</td>\n",
              "      <td>3.136535</td>\n",
              "      <td>19282215.0</td>\n",
              "      <td>0.0</td>\n",
              "      <td>0.0</td>\n",
              "      <td>330000.0</td>\n",
              "      <td>37.254459</td>\n",
              "      <td>885800.0</td>\n",
              "      <td>16394510.0</td>\n",
              "      <td>2.642600</td>\n",
              "      <td>947300.0</td>\n",
              "      <td>21.768136</td>\n",
              "      <td>14.976</td>\n",
              "      <td>5.987982</td>\n",
              "    </tr>\n",
              "    <tr>\n",
              "      <th>955</th>\n",
              "      <td>Tanzania</td>\n",
              "      <td>1983</td>\n",
              "      <td>46.199</td>\n",
              "      <td>15.149</td>\n",
              "      <td>6.580</td>\n",
              "      <td>52.508</td>\n",
              "      <td>49.227</td>\n",
              "      <td>50.827488</td>\n",
              "      <td>3.143771</td>\n",
              "      <td>19898033.0</td>\n",
              "      <td>0.0</td>\n",
              "      <td>0.0</td>\n",
              "      <td>330000.0</td>\n",
              "      <td>37.254459</td>\n",
              "      <td>885800.0</td>\n",
              "      <td>16831945.0</td>\n",
              "      <td>2.633205</td>\n",
              "      <td>947300.0</td>\n",
              "      <td>22.463347</td>\n",
              "      <td>15.409</td>\n",
              "      <td>5.994041</td>\n",
              "    </tr>\n",
              "    <tr>\n",
              "      <th>956</th>\n",
              "      <td>Tanzania</td>\n",
              "      <td>1984</td>\n",
              "      <td>45.939</td>\n",
              "      <td>15.029</td>\n",
              "      <td>6.542</td>\n",
              "      <td>52.645</td>\n",
              "      <td>49.368</td>\n",
              "      <td>50.966537</td>\n",
              "      <td>3.139727</td>\n",
              "      <td>20532688.0</td>\n",
              "      <td>0.0</td>\n",
              "      <td>0.0</td>\n",
              "      <td>330000.0</td>\n",
              "      <td>37.254459</td>\n",
              "      <td>885800.0</td>\n",
              "      <td>17278052.0</td>\n",
              "      <td>2.615846</td>\n",
              "      <td>947300.0</td>\n",
              "      <td>23.179824</td>\n",
              "      <td>15.851</td>\n",
              "      <td>5.967796</td>\n",
              "    </tr>\n",
              "  </tbody>\n",
              "</table>\n",
              "</div>"
            ],
            "text/plain": [
              "      country  ...  data_urban_development_urban_population_percent_growth\n",
              "952  Tanzania  ...                                           6.584829     \n",
              "953  Tanzania  ...                                           6.009932     \n",
              "954  Tanzania  ...                                           5.987982     \n",
              "955  Tanzania  ...                                           5.994041     \n",
              "956  Tanzania  ...                                           5.967796     \n",
              "\n",
              "[5 rows x 21 columns]"
            ]
          },
          "metadata": {
            "tags": []
          },
          "execution_count": 16
        }
      ]
    },
    {
      "cell_type": "code",
      "metadata": {
        "id": "CHSicVP-mMoH",
        "colab_type": "code",
        "outputId": "15694ccc-a7e4-4d31-e0b0-224ee7648038",
        "colab": {
          "base_uri": "https://localhost:8080/",
          "height": 34
        }
      },
      "source": [
        "# Checking the shape of the dataset\n",
        "globalEA.shape"
      ],
      "execution_count": 0,
      "outputs": [
        {
          "output_type": "execute_result",
          "data": {
            "text/plain": [
              "(136, 21)"
            ]
          },
          "metadata": {
            "tags": []
          },
          "execution_count": 17
        }
      ]
    },
    {
      "cell_type": "code",
      "metadata": {
        "id": "Bc7IEDYipTKV",
        "colab_type": "code",
        "outputId": "408e1078-cd1d-44a9-ff27-97d0ab5e47c1",
        "colab": {
          "base_uri": "https://localhost:8080/",
          "height": 439
        }
      },
      "source": [
        "# Rename columns\n",
        "globalEA.columns=['country','year','birth_rate','death_rate','fertility_rate','female_expectancy_at_birth','male_expectancy_at_birth','total_expectancy_at_birth','population_growth','total_population','cellular_subscriptions','cellular_subscriptions_per_100_people','rural_agricultural_land','rural_agricultural_land_percent','rural_land_area','rural_population','rural_population_growth','rural_surface_area','urban_population_density','urban_population_percent','urban_population_percent_growth']\n",
        "globalEA"
      ],
      "execution_count": 0,
      "outputs": [
        {
          "output_type": "execute_result",
          "data": {
            "text/html": [
              "<div>\n",
              "<style scoped>\n",
              "    .dataframe tbody tr th:only-of-type {\n",
              "        vertical-align: middle;\n",
              "    }\n",
              "\n",
              "    .dataframe tbody tr th {\n",
              "        vertical-align: top;\n",
              "    }\n",
              "\n",
              "    .dataframe thead th {\n",
              "        text-align: right;\n",
              "    }\n",
              "</style>\n",
              "<table border=\"1\" class=\"dataframe\">\n",
              "  <thead>\n",
              "    <tr style=\"text-align: right;\">\n",
              "      <th></th>\n",
              "      <th>country</th>\n",
              "      <th>year</th>\n",
              "      <th>birth_rate</th>\n",
              "      <th>death_rate</th>\n",
              "      <th>fertility_rate</th>\n",
              "      <th>female_expectancy_at_birth</th>\n",
              "      <th>male_expectancy_at_birth</th>\n",
              "      <th>total_expectancy_at_birth</th>\n",
              "      <th>population_growth</th>\n",
              "      <th>total_population</th>\n",
              "      <th>cellular_subscriptions</th>\n",
              "      <th>cellular_subscriptions_per_100_people</th>\n",
              "      <th>rural_agricultural_land</th>\n",
              "      <th>rural_agricultural_land_percent</th>\n",
              "      <th>rural_land_area</th>\n",
              "      <th>rural_population</th>\n",
              "      <th>rural_population_growth</th>\n",
              "      <th>rural_surface_area</th>\n",
              "      <th>urban_population_density</th>\n",
              "      <th>urban_population_percent</th>\n",
              "      <th>urban_population_percent_growth</th>\n",
              "    </tr>\n",
              "  </thead>\n",
              "  <tbody>\n",
              "    <tr>\n",
              "      <th>952</th>\n",
              "      <td>Tanzania</td>\n",
              "      <td>1980</td>\n",
              "      <td>46.995</td>\n",
              "      <td>15.596</td>\n",
              "      <td>6.685</td>\n",
              "      <td>51.987</td>\n",
              "      <td>48.647</td>\n",
              "      <td>50.276268</td>\n",
              "      <td>3.116857</td>\n",
              "      <td>18111999.0</td>\n",
              "      <td>0.0</td>\n",
              "      <td>0.000000</td>\n",
              "      <td>330000.0</td>\n",
              "      <td>37.254459</td>\n",
              "      <td>885800.0</td>\n",
              "      <td>15550781.0</td>\n",
              "      <td>2.557041</td>\n",
              "      <td>947300.0</td>\n",
              "      <td>20.447052</td>\n",
              "      <td>14.141</td>\n",
              "      <td>6.584829</td>\n",
              "    </tr>\n",
              "    <tr>\n",
              "      <th>953</th>\n",
              "      <td>Tanzania</td>\n",
              "      <td>1981</td>\n",
              "      <td>46.739</td>\n",
              "      <td>15.425</td>\n",
              "      <td>6.653</td>\n",
              "      <td>52.191</td>\n",
              "      <td>48.876</td>\n",
              "      <td>50.493073</td>\n",
              "      <td>3.124317</td>\n",
              "      <td>18686808.0</td>\n",
              "      <td>0.0</td>\n",
              "      <td>0.000000</td>\n",
              "      <td>330000.0</td>\n",
              "      <td>37.254459</td>\n",
              "      <td>885800.0</td>\n",
              "      <td>15966943.0</td>\n",
              "      <td>2.640966</td>\n",
              "      <td>947300.0</td>\n",
              "      <td>21.095967</td>\n",
              "      <td>14.555</td>\n",
              "      <td>6.009932</td>\n",
              "    </tr>\n",
              "    <tr>\n",
              "      <th>954</th>\n",
              "      <td>Tanzania</td>\n",
              "      <td>1982</td>\n",
              "      <td>46.469</td>\n",
              "      <td>15.279</td>\n",
              "      <td>6.618</td>\n",
              "      <td>52.359</td>\n",
              "      <td>49.065</td>\n",
              "      <td>50.671829</td>\n",
              "      <td>3.136535</td>\n",
              "      <td>19282215.0</td>\n",
              "      <td>0.0</td>\n",
              "      <td>0.000000</td>\n",
              "      <td>330000.0</td>\n",
              "      <td>37.254459</td>\n",
              "      <td>885800.0</td>\n",
              "      <td>16394510.0</td>\n",
              "      <td>2.642600</td>\n",
              "      <td>947300.0</td>\n",
              "      <td>21.768136</td>\n",
              "      <td>14.976</td>\n",
              "      <td>5.987982</td>\n",
              "    </tr>\n",
              "    <tr>\n",
              "      <th>955</th>\n",
              "      <td>Tanzania</td>\n",
              "      <td>1983</td>\n",
              "      <td>46.199</td>\n",
              "      <td>15.149</td>\n",
              "      <td>6.580</td>\n",
              "      <td>52.508</td>\n",
              "      <td>49.227</td>\n",
              "      <td>50.827488</td>\n",
              "      <td>3.143771</td>\n",
              "      <td>19898033.0</td>\n",
              "      <td>0.0</td>\n",
              "      <td>0.000000</td>\n",
              "      <td>330000.0</td>\n",
              "      <td>37.254459</td>\n",
              "      <td>885800.0</td>\n",
              "      <td>16831945.0</td>\n",
              "      <td>2.633205</td>\n",
              "      <td>947300.0</td>\n",
              "      <td>22.463347</td>\n",
              "      <td>15.409</td>\n",
              "      <td>5.994041</td>\n",
              "    </tr>\n",
              "    <tr>\n",
              "      <th>956</th>\n",
              "      <td>Tanzania</td>\n",
              "      <td>1984</td>\n",
              "      <td>45.939</td>\n",
              "      <td>15.029</td>\n",
              "      <td>6.542</td>\n",
              "      <td>52.645</td>\n",
              "      <td>49.368</td>\n",
              "      <td>50.966537</td>\n",
              "      <td>3.139727</td>\n",
              "      <td>20532688.0</td>\n",
              "      <td>0.0</td>\n",
              "      <td>0.000000</td>\n",
              "      <td>330000.0</td>\n",
              "      <td>37.254459</td>\n",
              "      <td>885800.0</td>\n",
              "      <td>17278052.0</td>\n",
              "      <td>2.615846</td>\n",
              "      <td>947300.0</td>\n",
              "      <td>23.179824</td>\n",
              "      <td>15.851</td>\n",
              "      <td>5.967796</td>\n",
              "    </tr>\n",
              "    <tr>\n",
              "      <th>...</th>\n",
              "      <td>...</td>\n",
              "      <td>...</td>\n",
              "      <td>...</td>\n",
              "      <td>...</td>\n",
              "      <td>...</td>\n",
              "      <td>...</td>\n",
              "      <td>...</td>\n",
              "      <td>...</td>\n",
              "      <td>...</td>\n",
              "      <td>...</td>\n",
              "      <td>...</td>\n",
              "      <td>...</td>\n",
              "      <td>...</td>\n",
              "      <td>...</td>\n",
              "      <td>...</td>\n",
              "      <td>...</td>\n",
              "      <td>...</td>\n",
              "      <td>...</td>\n",
              "      <td>...</td>\n",
              "      <td>...</td>\n",
              "      <td>...</td>\n",
              "    </tr>\n",
              "    <tr>\n",
              "      <th>3293</th>\n",
              "      <td>Uganda</td>\n",
              "      <td>2009</td>\n",
              "      <td>45.573</td>\n",
              "      <td>11.106</td>\n",
              "      <td>6.338</td>\n",
              "      <td>56.259</td>\n",
              "      <td>55.020</td>\n",
              "      <td>55.624390</td>\n",
              "      <td>3.360077</td>\n",
              "      <td>31778799.0</td>\n",
              "      <td>8554864.0</td>\n",
              "      <td>26.920036</td>\n",
              "      <td>137620.0</td>\n",
              "      <td>68.875432</td>\n",
              "      <td>199810.0</td>\n",
              "      <td>27364088.0</td>\n",
              "      <td>3.021542</td>\n",
              "      <td>241550.0</td>\n",
              "      <td>159.045088</td>\n",
              "      <td>13.892</td>\n",
              "      <td>5.484407</td>\n",
              "    </tr>\n",
              "    <tr>\n",
              "      <th>3294</th>\n",
              "      <td>Uganda</td>\n",
              "      <td>2010</td>\n",
              "      <td>45.115</td>\n",
              "      <td>10.655</td>\n",
              "      <td>6.248</td>\n",
              "      <td>57.258</td>\n",
              "      <td>55.762</td>\n",
              "      <td>56.491756</td>\n",
              "      <td>3.358844</td>\n",
              "      <td>32864328.0</td>\n",
              "      <td>9383734.0</td>\n",
              "      <td>28.552947</td>\n",
              "      <td>139120.0</td>\n",
              "      <td>69.626145</td>\n",
              "      <td>199810.0</td>\n",
              "      <td>28201209.0</td>\n",
              "      <td>3.013335</td>\n",
              "      <td>241550.0</td>\n",
              "      <td>164.477894</td>\n",
              "      <td>14.189</td>\n",
              "      <td>5.474216</td>\n",
              "    </tr>\n",
              "    <tr>\n",
              "      <th>3295</th>\n",
              "      <td>Uganda</td>\n",
              "      <td>2011</td>\n",
              "      <td>44.639</td>\n",
              "      <td>10.239</td>\n",
              "      <td>6.155</td>\n",
              "      <td>58.198</td>\n",
              "      <td>56.438</td>\n",
              "      <td>57.296537</td>\n",
              "      <td>3.359655</td>\n",
              "      <td>33987213.0</td>\n",
              "      <td>12828264.0</td>\n",
              "      <td>37.744383</td>\n",
              "      <td>140620.0</td>\n",
              "      <td>70.376858</td>\n",
              "      <td>199810.0</td>\n",
              "      <td>29061786.0</td>\n",
              "      <td>3.005927</td>\n",
              "      <td>241550.0</td>\n",
              "      <td>170.097658</td>\n",
              "      <td>14.492</td>\n",
              "      <td>5.472643</td>\n",
              "    </tr>\n",
              "    <tr>\n",
              "      <th>3296</th>\n",
              "      <td>Uganda</td>\n",
              "      <td>2012</td>\n",
              "      <td>44.152</td>\n",
              "      <td>9.865</td>\n",
              "      <td>6.060</td>\n",
              "      <td>59.045</td>\n",
              "      <td>57.039</td>\n",
              "      <td>58.017537</td>\n",
              "      <td>3.358517</td>\n",
              "      <td>35148064.0</td>\n",
              "      <td>16696992.0</td>\n",
              "      <td>47.504727</td>\n",
              "      <td>140620.0</td>\n",
              "      <td>70.376858</td>\n",
              "      <td>199810.0</td>\n",
              "      <td>29946151.0</td>\n",
              "      <td>2.997669</td>\n",
              "      <td>241550.0</td>\n",
              "      <td>175.907432</td>\n",
              "      <td>14.800</td>\n",
              "      <td>5.461547</td>\n",
              "    </tr>\n",
              "    <tr>\n",
              "      <th>3297</th>\n",
              "      <td>Uganda</td>\n",
              "      <td>2013</td>\n",
              "      <td>43.654</td>\n",
              "      <td>9.534</td>\n",
              "      <td>5.964</td>\n",
              "      <td>59.783</td>\n",
              "      <td>57.567</td>\n",
              "      <td>58.647976</td>\n",
              "      <td>3.351077</td>\n",
              "      <td>36345860.0</td>\n",
              "      <td>16356387.0</td>\n",
              "      <td>45.002064</td>\n",
              "      <td>142620.0</td>\n",
              "      <td>71.377809</td>\n",
              "      <td>199810.0</td>\n",
              "      <td>30852183.0</td>\n",
              "      <td>2.980671</td>\n",
              "      <td>241550.0</td>\n",
              "      <td>181.902107</td>\n",
              "      <td>15.115</td>\n",
              "      <td>5.457135</td>\n",
              "    </tr>\n",
              "  </tbody>\n",
              "</table>\n",
              "<p>136 rows × 21 columns</p>\n",
              "</div>"
            ],
            "text/plain": [
              "       country  year  ...  urban_population_percent  urban_population_percent_growth\n",
              "952   Tanzania  1980  ...                    14.141                         6.584829\n",
              "953   Tanzania  1981  ...                    14.555                         6.009932\n",
              "954   Tanzania  1982  ...                    14.976                         5.987982\n",
              "955   Tanzania  1983  ...                    15.409                         5.994041\n",
              "956   Tanzania  1984  ...                    15.851                         5.967796\n",
              "...        ...   ...  ...                       ...                              ...\n",
              "3293    Uganda  2009  ...                    13.892                         5.484407\n",
              "3294    Uganda  2010  ...                    14.189                         5.474216\n",
              "3295    Uganda  2011  ...                    14.492                         5.472643\n",
              "3296    Uganda  2012  ...                    14.800                         5.461547\n",
              "3297    Uganda  2013  ...                    15.115                         5.457135\n",
              "\n",
              "[136 rows x 21 columns]"
            ]
          },
          "metadata": {
            "tags": []
          },
          "execution_count": 18
        }
      ]
    },
    {
      "cell_type": "code",
      "metadata": {
        "id": "SyO3lI33Z0aK",
        "colab_type": "code",
        "outputId": "7827b253-6164-40b3-930b-eb3a31ba694f",
        "colab": {
          "base_uri": "https://localhost:8080/",
          "height": 357
        }
      },
      "source": [
        "# Accuracy check\n",
        "# Confirm whether agricultural land divided by the surface area percentage is equal to agricultural land percentage\n",
        "al=globalEA['rural_agricultural_land']\n",
        "sa=globalEA['rural_land_area']\n",
        "\n",
        "perc=((al/sa)*100)\n",
        "globalEA['percentage'] = perc\n",
        "globalEA.loc[globalEA.percentage == globalEA.rural_agricultural_land_percent, 'equal'] = 'True' \n",
        "globalEA.loc[globalEA.percentage != globalEA.rural_agricultural_land_percent , 'not_equal'] = 'False' \n",
        "globalEA.equal.value_counts().head"
      ],
      "execution_count": 0,
      "outputs": [
        {
          "output_type": "stream",
          "text": [
            "/usr/local/lib/python3.6/dist-packages/ipykernel_launcher.py:5: SettingWithCopyWarning: \n",
            "A value is trying to be set on a copy of a slice from a DataFrame.\n",
            "Try using .loc[row_indexer,col_indexer] = value instead\n",
            "\n",
            "See the caveats in the documentation: http://pandas.pydata.org/pandas-docs/stable/user_guide/indexing.html#returning-a-view-versus-a-copy\n",
            "  \"\"\"\n",
            "/usr/local/lib/python3.6/dist-packages/pandas/core/indexing.py:376: SettingWithCopyWarning: \n",
            "A value is trying to be set on a copy of a slice from a DataFrame.\n",
            "Try using .loc[row_indexer,col_indexer] = value instead\n",
            "\n",
            "See the caveats in the documentation: http://pandas.pydata.org/pandas-docs/stable/user_guide/indexing.html#returning-a-view-versus-a-copy\n",
            "  self.obj[key] = _infer_fill_value(value)\n",
            "/usr/local/lib/python3.6/dist-packages/pandas/core/indexing.py:494: SettingWithCopyWarning: \n",
            "A value is trying to be set on a copy of a slice from a DataFrame.\n",
            "Try using .loc[row_indexer,col_indexer] = value instead\n",
            "\n",
            "See the caveats in the documentation: http://pandas.pydata.org/pandas-docs/stable/user_guide/indexing.html#returning-a-view-versus-a-copy\n",
            "  self.obj[item] = s\n"
          ],
          "name": "stderr"
        },
        {
          "output_type": "execute_result",
          "data": {
            "text/plain": [
              "<bound method NDFrame.head of True    12\n",
              "Name: equal, dtype: int64>"
            ]
          },
          "metadata": {
            "tags": []
          },
          "execution_count": 19
        }
      ]
    },
    {
      "cell_type": "code",
      "metadata": {
        "id": "dgRRg9HBshTY",
        "colab_type": "code",
        "outputId": "3047e4d8-95d6-4ef4-eb90-36f12b466e06",
        "colab": {
          "base_uri": "https://localhost:8080/",
          "height": 255
        }
      },
      "source": [
        "al=globalEA['rural_agricultural_land']\n",
        "sa=globalEA['rural_land_area']\n",
        "\n",
        "perc=((al/sa)*100)\n",
        "globalEA['percentage'] = perc\n",
        "globalEA.loc[globalEA.percentage != globalEA.rural_agricultural_land_percent , 'not_equal'] = 'False' \n",
        "globalEA.not_equal.value_counts()"
      ],
      "execution_count": 0,
      "outputs": [
        {
          "output_type": "stream",
          "text": [
            "/usr/local/lib/python3.6/dist-packages/ipykernel_launcher.py:5: SettingWithCopyWarning: \n",
            "A value is trying to be set on a copy of a slice from a DataFrame.\n",
            "Try using .loc[row_indexer,col_indexer] = value instead\n",
            "\n",
            "See the caveats in the documentation: http://pandas.pydata.org/pandas-docs/stable/user_guide/indexing.html#returning-a-view-versus-a-copy\n",
            "  \"\"\"\n",
            "/usr/local/lib/python3.6/dist-packages/pandas/core/indexing.py:494: SettingWithCopyWarning: \n",
            "A value is trying to be set on a copy of a slice from a DataFrame.\n",
            "Try using .loc[row_indexer,col_indexer] = value instead\n",
            "\n",
            "See the caveats in the documentation: http://pandas.pydata.org/pandas-docs/stable/user_guide/indexing.html#returning-a-view-versus-a-copy\n",
            "  self.obj[item] = s\n"
          ],
          "name": "stderr"
        },
        {
          "output_type": "execute_result",
          "data": {
            "text/plain": [
              "False    124\n",
              "Name: not_equal, dtype: int64"
            ]
          },
          "metadata": {
            "tags": []
          },
          "execution_count": 20
        }
      ]
    },
    {
      "cell_type": "code",
      "metadata": {
        "id": "yVJJ4UCOsl0_",
        "colab_type": "code",
        "outputId": "56e77ee4-ddaa-4a23-9e38-77e5498f7b98",
        "colab": {
          "base_uri": "https://localhost:8080/",
          "height": 421
        }
      },
      "source": [
        "t = globalEA[['country','year','rural_agricultural_land','rural_agricultural_land_percent','equal']]\n",
        "t = t.loc[globalEA['equal'] == 'True']\n",
        "t"
      ],
      "execution_count": 0,
      "outputs": [
        {
          "output_type": "execute_result",
          "data": {
            "text/html": [
              "<div>\n",
              "<style scoped>\n",
              "    .dataframe tbody tr th:only-of-type {\n",
              "        vertical-align: middle;\n",
              "    }\n",
              "\n",
              "    .dataframe tbody tr th {\n",
              "        vertical-align: top;\n",
              "    }\n",
              "\n",
              "    .dataframe thead th {\n",
              "        text-align: right;\n",
              "    }\n",
              "</style>\n",
              "<table border=\"1\" class=\"dataframe\">\n",
              "  <thead>\n",
              "    <tr style=\"text-align: right;\">\n",
              "      <th></th>\n",
              "      <th>country</th>\n",
              "      <th>year</th>\n",
              "      <th>rural_agricultural_land</th>\n",
              "      <th>rural_agricultural_land_percent</th>\n",
              "      <th>equal</th>\n",
              "    </tr>\n",
              "  </thead>\n",
              "  <tbody>\n",
              "    <tr>\n",
              "      <th>975</th>\n",
              "      <td>Tanzania</td>\n",
              "      <td>2003</td>\n",
              "      <td>342000.0</td>\n",
              "      <td>38.609167</td>\n",
              "      <td>True</td>\n",
              "    </tr>\n",
              "    <tr>\n",
              "      <th>980</th>\n",
              "      <td>Tanzania</td>\n",
              "      <td>2008</td>\n",
              "      <td>356500.0</td>\n",
              "      <td>40.246105</td>\n",
              "      <td>True</td>\n",
              "    </tr>\n",
              "    <tr>\n",
              "      <th>1775</th>\n",
              "      <td>Rwanda</td>\n",
              "      <td>1987</td>\n",
              "      <td>18300.0</td>\n",
              "      <td>74.179165</td>\n",
              "      <td>True</td>\n",
              "    </tr>\n",
              "    <tr>\n",
              "      <th>1777</th>\n",
              "      <td>Rwanda</td>\n",
              "      <td>1989</td>\n",
              "      <td>18530.0</td>\n",
              "      <td>75.111471</td>\n",
              "      <td>True</td>\n",
              "    </tr>\n",
              "    <tr>\n",
              "      <th>1788</th>\n",
              "      <td>Rwanda</td>\n",
              "      <td>2000</td>\n",
              "      <td>16610.0</td>\n",
              "      <td>67.328739</td>\n",
              "      <td>True</td>\n",
              "    </tr>\n",
              "    <tr>\n",
              "      <th>1796</th>\n",
              "      <td>Rwanda</td>\n",
              "      <td>2008</td>\n",
              "      <td>18000.0</td>\n",
              "      <td>72.963113</td>\n",
              "      <td>True</td>\n",
              "    </tr>\n",
              "    <tr>\n",
              "      <th>2698</th>\n",
              "      <td>Kenya</td>\n",
              "      <td>1992</td>\n",
              "      <td>268770.0</td>\n",
              "      <td>47.223882</td>\n",
              "      <td>True</td>\n",
              "    </tr>\n",
              "    <tr>\n",
              "      <th>2700</th>\n",
              "      <td>Kenya</td>\n",
              "      <td>1994</td>\n",
              "      <td>268400.0</td>\n",
              "      <td>47.158871</td>\n",
              "      <td>True</td>\n",
              "    </tr>\n",
              "    <tr>\n",
              "      <th>2701</th>\n",
              "      <td>Kenya</td>\n",
              "      <td>1995</td>\n",
              "      <td>272320.0</td>\n",
              "      <td>47.847630</td>\n",
              "      <td>True</td>\n",
              "    </tr>\n",
              "    <tr>\n",
              "      <th>3264</th>\n",
              "      <td>Uganda</td>\n",
              "      <td>1980</td>\n",
              "      <td>106100.0</td>\n",
              "      <td>53.100445</td>\n",
              "      <td>True</td>\n",
              "    </tr>\n",
              "    <tr>\n",
              "      <th>3289</th>\n",
              "      <td>Uganda</td>\n",
              "      <td>2005</td>\n",
              "      <td>132620.0</td>\n",
              "      <td>66.373054</td>\n",
              "      <td>True</td>\n",
              "    </tr>\n",
              "    <tr>\n",
              "      <th>3290</th>\n",
              "      <td>Uganda</td>\n",
              "      <td>2006</td>\n",
              "      <td>132620.0</td>\n",
              "      <td>66.373054</td>\n",
              "      <td>True</td>\n",
              "    </tr>\n",
              "  </tbody>\n",
              "</table>\n",
              "</div>"
            ],
            "text/plain": [
              "       country  year  ...  rural_agricultural_land_percent  equal\n",
              "975   Tanzania  2003  ...                        38.609167   True\n",
              "980   Tanzania  2008  ...                        40.246105   True\n",
              "1775    Rwanda  1987  ...                        74.179165   True\n",
              "1777    Rwanda  1989  ...                        75.111471   True\n",
              "1788    Rwanda  2000  ...                        67.328739   True\n",
              "1796    Rwanda  2008  ...                        72.963113   True\n",
              "2698     Kenya  1992  ...                        47.223882   True\n",
              "2700     Kenya  1994  ...                        47.158871   True\n",
              "2701     Kenya  1995  ...                        47.847630   True\n",
              "3264    Uganda  1980  ...                        53.100445   True\n",
              "3289    Uganda  2005  ...                        66.373054   True\n",
              "3290    Uganda  2006  ...                        66.373054   True\n",
              "\n",
              "[12 rows x 5 columns]"
            ]
          },
          "metadata": {
            "tags": []
          },
          "execution_count": 21
        }
      ]
    },
    {
      "cell_type": "code",
      "metadata": {
        "id": "vDcMNLI0qJpV",
        "colab_type": "code",
        "outputId": "e292db26-aad1-4bef-9f9b-8655986d72ee",
        "colab": {
          "base_uri": "https://localhost:8080/",
          "height": 419
        }
      },
      "source": [
        "f = globalEA[['country','year','rural_agricultural_land','rural_agricultural_land_percent','not_equal']]\n",
        "f = f.loc[globalEA['not_equal'] == 'False']\n",
        "f"
      ],
      "execution_count": 0,
      "outputs": [
        {
          "output_type": "execute_result",
          "data": {
            "text/html": [
              "<div>\n",
              "<style scoped>\n",
              "    .dataframe tbody tr th:only-of-type {\n",
              "        vertical-align: middle;\n",
              "    }\n",
              "\n",
              "    .dataframe tbody tr th {\n",
              "        vertical-align: top;\n",
              "    }\n",
              "\n",
              "    .dataframe thead th {\n",
              "        text-align: right;\n",
              "    }\n",
              "</style>\n",
              "<table border=\"1\" class=\"dataframe\">\n",
              "  <thead>\n",
              "    <tr style=\"text-align: right;\">\n",
              "      <th></th>\n",
              "      <th>country</th>\n",
              "      <th>year</th>\n",
              "      <th>rural_agricultural_land</th>\n",
              "      <th>rural_agricultural_land_percent</th>\n",
              "      <th>not_equal</th>\n",
              "    </tr>\n",
              "  </thead>\n",
              "  <tbody>\n",
              "    <tr>\n",
              "      <th>952</th>\n",
              "      <td>Tanzania</td>\n",
              "      <td>1980</td>\n",
              "      <td>330000.0</td>\n",
              "      <td>37.254459</td>\n",
              "      <td>False</td>\n",
              "    </tr>\n",
              "    <tr>\n",
              "      <th>953</th>\n",
              "      <td>Tanzania</td>\n",
              "      <td>1981</td>\n",
              "      <td>330000.0</td>\n",
              "      <td>37.254459</td>\n",
              "      <td>False</td>\n",
              "    </tr>\n",
              "    <tr>\n",
              "      <th>954</th>\n",
              "      <td>Tanzania</td>\n",
              "      <td>1982</td>\n",
              "      <td>330000.0</td>\n",
              "      <td>37.254459</td>\n",
              "      <td>False</td>\n",
              "    </tr>\n",
              "    <tr>\n",
              "      <th>955</th>\n",
              "      <td>Tanzania</td>\n",
              "      <td>1983</td>\n",
              "      <td>330000.0</td>\n",
              "      <td>37.254459</td>\n",
              "      <td>False</td>\n",
              "    </tr>\n",
              "    <tr>\n",
              "      <th>956</th>\n",
              "      <td>Tanzania</td>\n",
              "      <td>1984</td>\n",
              "      <td>330000.0</td>\n",
              "      <td>37.254459</td>\n",
              "      <td>False</td>\n",
              "    </tr>\n",
              "    <tr>\n",
              "      <th>...</th>\n",
              "      <td>...</td>\n",
              "      <td>...</td>\n",
              "      <td>...</td>\n",
              "      <td>...</td>\n",
              "      <td>...</td>\n",
              "    </tr>\n",
              "    <tr>\n",
              "      <th>3293</th>\n",
              "      <td>Uganda</td>\n",
              "      <td>2009</td>\n",
              "      <td>137620.0</td>\n",
              "      <td>68.875432</td>\n",
              "      <td>False</td>\n",
              "    </tr>\n",
              "    <tr>\n",
              "      <th>3294</th>\n",
              "      <td>Uganda</td>\n",
              "      <td>2010</td>\n",
              "      <td>139120.0</td>\n",
              "      <td>69.626145</td>\n",
              "      <td>False</td>\n",
              "    </tr>\n",
              "    <tr>\n",
              "      <th>3295</th>\n",
              "      <td>Uganda</td>\n",
              "      <td>2011</td>\n",
              "      <td>140620.0</td>\n",
              "      <td>70.376858</td>\n",
              "      <td>False</td>\n",
              "    </tr>\n",
              "    <tr>\n",
              "      <th>3296</th>\n",
              "      <td>Uganda</td>\n",
              "      <td>2012</td>\n",
              "      <td>140620.0</td>\n",
              "      <td>70.376858</td>\n",
              "      <td>False</td>\n",
              "    </tr>\n",
              "    <tr>\n",
              "      <th>3297</th>\n",
              "      <td>Uganda</td>\n",
              "      <td>2013</td>\n",
              "      <td>142620.0</td>\n",
              "      <td>71.377809</td>\n",
              "      <td>False</td>\n",
              "    </tr>\n",
              "  </tbody>\n",
              "</table>\n",
              "<p>124 rows × 5 columns</p>\n",
              "</div>"
            ],
            "text/plain": [
              "       country  year  ...  rural_agricultural_land_percent  not_equal\n",
              "952   Tanzania  1980  ...                        37.254459      False\n",
              "953   Tanzania  1981  ...                        37.254459      False\n",
              "954   Tanzania  1982  ...                        37.254459      False\n",
              "955   Tanzania  1983  ...                        37.254459      False\n",
              "956   Tanzania  1984  ...                        37.254459      False\n",
              "...        ...   ...  ...                              ...        ...\n",
              "3293    Uganda  2009  ...                        68.875432      False\n",
              "3294    Uganda  2010  ...                        69.626145      False\n",
              "3295    Uganda  2011  ...                        70.376858      False\n",
              "3296    Uganda  2012  ...                        70.376858      False\n",
              "3297    Uganda  2013  ...                        71.377809      False\n",
              "\n",
              "[124 rows x 5 columns]"
            ]
          },
          "metadata": {
            "tags": []
          },
          "execution_count": 22
        }
      ]
    },
    {
      "cell_type": "code",
      "metadata": {
        "id": "xok9L5Sra0Se",
        "colab_type": "code",
        "outputId": "5a332f8c-3825-481e-842f-b8887c38483a",
        "colab": {
          "base_uri": "https://localhost:8080/",
          "height": 524
        }
      },
      "source": [
        "# Drop more columns\n",
        "\n",
        "globalEA.drop(['equal','not_equal','percentage'],axis=1,inplace=True)\n",
        "globalEA"
      ],
      "execution_count": 0,
      "outputs": [
        {
          "output_type": "stream",
          "text": [
            "/usr/local/lib/python3.6/dist-packages/pandas/core/frame.py:4117: SettingWithCopyWarning: \n",
            "A value is trying to be set on a copy of a slice from a DataFrame\n",
            "\n",
            "See the caveats in the documentation: http://pandas.pydata.org/pandas-docs/stable/user_guide/indexing.html#returning-a-view-versus-a-copy\n",
            "  errors=errors,\n"
          ],
          "name": "stderr"
        },
        {
          "output_type": "execute_result",
          "data": {
            "text/html": [
              "<div>\n",
              "<style scoped>\n",
              "    .dataframe tbody tr th:only-of-type {\n",
              "        vertical-align: middle;\n",
              "    }\n",
              "\n",
              "    .dataframe tbody tr th {\n",
              "        vertical-align: top;\n",
              "    }\n",
              "\n",
              "    .dataframe thead th {\n",
              "        text-align: right;\n",
              "    }\n",
              "</style>\n",
              "<table border=\"1\" class=\"dataframe\">\n",
              "  <thead>\n",
              "    <tr style=\"text-align: right;\">\n",
              "      <th></th>\n",
              "      <th>country</th>\n",
              "      <th>year</th>\n",
              "      <th>birth_rate</th>\n",
              "      <th>death_rate</th>\n",
              "      <th>fertility_rate</th>\n",
              "      <th>female_expectancy_at_birth</th>\n",
              "      <th>male_expectancy_at_birth</th>\n",
              "      <th>total_expectancy_at_birth</th>\n",
              "      <th>population_growth</th>\n",
              "      <th>total_population</th>\n",
              "      <th>cellular_subscriptions</th>\n",
              "      <th>cellular_subscriptions_per_100_people</th>\n",
              "      <th>rural_agricultural_land</th>\n",
              "      <th>rural_agricultural_land_percent</th>\n",
              "      <th>rural_land_area</th>\n",
              "      <th>rural_population</th>\n",
              "      <th>rural_population_growth</th>\n",
              "      <th>rural_surface_area</th>\n",
              "      <th>urban_population_density</th>\n",
              "      <th>urban_population_percent</th>\n",
              "      <th>urban_population_percent_growth</th>\n",
              "    </tr>\n",
              "  </thead>\n",
              "  <tbody>\n",
              "    <tr>\n",
              "      <th>952</th>\n",
              "      <td>Tanzania</td>\n",
              "      <td>1980</td>\n",
              "      <td>46.995</td>\n",
              "      <td>15.596</td>\n",
              "      <td>6.685</td>\n",
              "      <td>51.987</td>\n",
              "      <td>48.647</td>\n",
              "      <td>50.276268</td>\n",
              "      <td>3.116857</td>\n",
              "      <td>18111999.0</td>\n",
              "      <td>0.0</td>\n",
              "      <td>0.000000</td>\n",
              "      <td>330000.0</td>\n",
              "      <td>37.254459</td>\n",
              "      <td>885800.0</td>\n",
              "      <td>15550781.0</td>\n",
              "      <td>2.557041</td>\n",
              "      <td>947300.0</td>\n",
              "      <td>20.447052</td>\n",
              "      <td>14.141</td>\n",
              "      <td>6.584829</td>\n",
              "    </tr>\n",
              "    <tr>\n",
              "      <th>953</th>\n",
              "      <td>Tanzania</td>\n",
              "      <td>1981</td>\n",
              "      <td>46.739</td>\n",
              "      <td>15.425</td>\n",
              "      <td>6.653</td>\n",
              "      <td>52.191</td>\n",
              "      <td>48.876</td>\n",
              "      <td>50.493073</td>\n",
              "      <td>3.124317</td>\n",
              "      <td>18686808.0</td>\n",
              "      <td>0.0</td>\n",
              "      <td>0.000000</td>\n",
              "      <td>330000.0</td>\n",
              "      <td>37.254459</td>\n",
              "      <td>885800.0</td>\n",
              "      <td>15966943.0</td>\n",
              "      <td>2.640966</td>\n",
              "      <td>947300.0</td>\n",
              "      <td>21.095967</td>\n",
              "      <td>14.555</td>\n",
              "      <td>6.009932</td>\n",
              "    </tr>\n",
              "    <tr>\n",
              "      <th>954</th>\n",
              "      <td>Tanzania</td>\n",
              "      <td>1982</td>\n",
              "      <td>46.469</td>\n",
              "      <td>15.279</td>\n",
              "      <td>6.618</td>\n",
              "      <td>52.359</td>\n",
              "      <td>49.065</td>\n",
              "      <td>50.671829</td>\n",
              "      <td>3.136535</td>\n",
              "      <td>19282215.0</td>\n",
              "      <td>0.0</td>\n",
              "      <td>0.000000</td>\n",
              "      <td>330000.0</td>\n",
              "      <td>37.254459</td>\n",
              "      <td>885800.0</td>\n",
              "      <td>16394510.0</td>\n",
              "      <td>2.642600</td>\n",
              "      <td>947300.0</td>\n",
              "      <td>21.768136</td>\n",
              "      <td>14.976</td>\n",
              "      <td>5.987982</td>\n",
              "    </tr>\n",
              "    <tr>\n",
              "      <th>955</th>\n",
              "      <td>Tanzania</td>\n",
              "      <td>1983</td>\n",
              "      <td>46.199</td>\n",
              "      <td>15.149</td>\n",
              "      <td>6.580</td>\n",
              "      <td>52.508</td>\n",
              "      <td>49.227</td>\n",
              "      <td>50.827488</td>\n",
              "      <td>3.143771</td>\n",
              "      <td>19898033.0</td>\n",
              "      <td>0.0</td>\n",
              "      <td>0.000000</td>\n",
              "      <td>330000.0</td>\n",
              "      <td>37.254459</td>\n",
              "      <td>885800.0</td>\n",
              "      <td>16831945.0</td>\n",
              "      <td>2.633205</td>\n",
              "      <td>947300.0</td>\n",
              "      <td>22.463347</td>\n",
              "      <td>15.409</td>\n",
              "      <td>5.994041</td>\n",
              "    </tr>\n",
              "    <tr>\n",
              "      <th>956</th>\n",
              "      <td>Tanzania</td>\n",
              "      <td>1984</td>\n",
              "      <td>45.939</td>\n",
              "      <td>15.029</td>\n",
              "      <td>6.542</td>\n",
              "      <td>52.645</td>\n",
              "      <td>49.368</td>\n",
              "      <td>50.966537</td>\n",
              "      <td>3.139727</td>\n",
              "      <td>20532688.0</td>\n",
              "      <td>0.0</td>\n",
              "      <td>0.000000</td>\n",
              "      <td>330000.0</td>\n",
              "      <td>37.254459</td>\n",
              "      <td>885800.0</td>\n",
              "      <td>17278052.0</td>\n",
              "      <td>2.615846</td>\n",
              "      <td>947300.0</td>\n",
              "      <td>23.179824</td>\n",
              "      <td>15.851</td>\n",
              "      <td>5.967796</td>\n",
              "    </tr>\n",
              "    <tr>\n",
              "      <th>...</th>\n",
              "      <td>...</td>\n",
              "      <td>...</td>\n",
              "      <td>...</td>\n",
              "      <td>...</td>\n",
              "      <td>...</td>\n",
              "      <td>...</td>\n",
              "      <td>...</td>\n",
              "      <td>...</td>\n",
              "      <td>...</td>\n",
              "      <td>...</td>\n",
              "      <td>...</td>\n",
              "      <td>...</td>\n",
              "      <td>...</td>\n",
              "      <td>...</td>\n",
              "      <td>...</td>\n",
              "      <td>...</td>\n",
              "      <td>...</td>\n",
              "      <td>...</td>\n",
              "      <td>...</td>\n",
              "      <td>...</td>\n",
              "      <td>...</td>\n",
              "    </tr>\n",
              "    <tr>\n",
              "      <th>3293</th>\n",
              "      <td>Uganda</td>\n",
              "      <td>2009</td>\n",
              "      <td>45.573</td>\n",
              "      <td>11.106</td>\n",
              "      <td>6.338</td>\n",
              "      <td>56.259</td>\n",
              "      <td>55.020</td>\n",
              "      <td>55.624390</td>\n",
              "      <td>3.360077</td>\n",
              "      <td>31778799.0</td>\n",
              "      <td>8554864.0</td>\n",
              "      <td>26.920036</td>\n",
              "      <td>137620.0</td>\n",
              "      <td>68.875432</td>\n",
              "      <td>199810.0</td>\n",
              "      <td>27364088.0</td>\n",
              "      <td>3.021542</td>\n",
              "      <td>241550.0</td>\n",
              "      <td>159.045088</td>\n",
              "      <td>13.892</td>\n",
              "      <td>5.484407</td>\n",
              "    </tr>\n",
              "    <tr>\n",
              "      <th>3294</th>\n",
              "      <td>Uganda</td>\n",
              "      <td>2010</td>\n",
              "      <td>45.115</td>\n",
              "      <td>10.655</td>\n",
              "      <td>6.248</td>\n",
              "      <td>57.258</td>\n",
              "      <td>55.762</td>\n",
              "      <td>56.491756</td>\n",
              "      <td>3.358844</td>\n",
              "      <td>32864328.0</td>\n",
              "      <td>9383734.0</td>\n",
              "      <td>28.552947</td>\n",
              "      <td>139120.0</td>\n",
              "      <td>69.626145</td>\n",
              "      <td>199810.0</td>\n",
              "      <td>28201209.0</td>\n",
              "      <td>3.013335</td>\n",
              "      <td>241550.0</td>\n",
              "      <td>164.477894</td>\n",
              "      <td>14.189</td>\n",
              "      <td>5.474216</td>\n",
              "    </tr>\n",
              "    <tr>\n",
              "      <th>3295</th>\n",
              "      <td>Uganda</td>\n",
              "      <td>2011</td>\n",
              "      <td>44.639</td>\n",
              "      <td>10.239</td>\n",
              "      <td>6.155</td>\n",
              "      <td>58.198</td>\n",
              "      <td>56.438</td>\n",
              "      <td>57.296537</td>\n",
              "      <td>3.359655</td>\n",
              "      <td>33987213.0</td>\n",
              "      <td>12828264.0</td>\n",
              "      <td>37.744383</td>\n",
              "      <td>140620.0</td>\n",
              "      <td>70.376858</td>\n",
              "      <td>199810.0</td>\n",
              "      <td>29061786.0</td>\n",
              "      <td>3.005927</td>\n",
              "      <td>241550.0</td>\n",
              "      <td>170.097658</td>\n",
              "      <td>14.492</td>\n",
              "      <td>5.472643</td>\n",
              "    </tr>\n",
              "    <tr>\n",
              "      <th>3296</th>\n",
              "      <td>Uganda</td>\n",
              "      <td>2012</td>\n",
              "      <td>44.152</td>\n",
              "      <td>9.865</td>\n",
              "      <td>6.060</td>\n",
              "      <td>59.045</td>\n",
              "      <td>57.039</td>\n",
              "      <td>58.017537</td>\n",
              "      <td>3.358517</td>\n",
              "      <td>35148064.0</td>\n",
              "      <td>16696992.0</td>\n",
              "      <td>47.504727</td>\n",
              "      <td>140620.0</td>\n",
              "      <td>70.376858</td>\n",
              "      <td>199810.0</td>\n",
              "      <td>29946151.0</td>\n",
              "      <td>2.997669</td>\n",
              "      <td>241550.0</td>\n",
              "      <td>175.907432</td>\n",
              "      <td>14.800</td>\n",
              "      <td>5.461547</td>\n",
              "    </tr>\n",
              "    <tr>\n",
              "      <th>3297</th>\n",
              "      <td>Uganda</td>\n",
              "      <td>2013</td>\n",
              "      <td>43.654</td>\n",
              "      <td>9.534</td>\n",
              "      <td>5.964</td>\n",
              "      <td>59.783</td>\n",
              "      <td>57.567</td>\n",
              "      <td>58.647976</td>\n",
              "      <td>3.351077</td>\n",
              "      <td>36345860.0</td>\n",
              "      <td>16356387.0</td>\n",
              "      <td>45.002064</td>\n",
              "      <td>142620.0</td>\n",
              "      <td>71.377809</td>\n",
              "      <td>199810.0</td>\n",
              "      <td>30852183.0</td>\n",
              "      <td>2.980671</td>\n",
              "      <td>241550.0</td>\n",
              "      <td>181.902107</td>\n",
              "      <td>15.115</td>\n",
              "      <td>5.457135</td>\n",
              "    </tr>\n",
              "  </tbody>\n",
              "</table>\n",
              "<p>136 rows × 21 columns</p>\n",
              "</div>"
            ],
            "text/plain": [
              "       country  year  ...  urban_population_percent  urban_population_percent_growth\n",
              "952   Tanzania  1980  ...                    14.141                         6.584829\n",
              "953   Tanzania  1981  ...                    14.555                         6.009932\n",
              "954   Tanzania  1982  ...                    14.976                         5.987982\n",
              "955   Tanzania  1983  ...                    15.409                         5.994041\n",
              "956   Tanzania  1984  ...                    15.851                         5.967796\n",
              "...        ...   ...  ...                       ...                              ...\n",
              "3293    Uganda  2009  ...                    13.892                         5.484407\n",
              "3294    Uganda  2010  ...                    14.189                         5.474216\n",
              "3295    Uganda  2011  ...                    14.492                         5.472643\n",
              "3296    Uganda  2012  ...                    14.800                         5.461547\n",
              "3297    Uganda  2013  ...                    15.115                         5.457135\n",
              "\n",
              "[136 rows x 21 columns]"
            ]
          },
          "metadata": {
            "tags": []
          },
          "execution_count": 23
        }
      ]
    },
    {
      "cell_type": "code",
      "metadata": {
        "id": "IXAoD0GAgar1",
        "colab_type": "code",
        "outputId": "8e4a70e1-c362-400d-e977-f336974a34c1",
        "colab": {
          "base_uri": "https://localhost:8080/",
          "height": 1000
        }
      },
      "source": [
        "# Find outliers in each column\n",
        "import seaborn as sns\n",
        "plt.style.use('seaborn-colorblind')\n",
        "\n",
        "for i in globalEA.country.unique():\n",
        "  plt.figure()\n",
        "  sns.boxplot(x = globalEA[globalEA.country == i]['birth_rate'])\n",
        "  #plt.boxplot(globalEA[globalEA.country == i]['birth_rate'])\n",
        "  plt.title(f\"Box_plots({i})\")\n",
        "  plt.show()"
      ],
      "execution_count": 0,
      "outputs": [
        {
          "output_type": "display_data",
          "data": {
            "image/png": "[encoded data removed]",
            "text/plain": [
              "<Figure size 432x288 with 1 Axes>"
            ]
          },
          "metadata": {
            "tags": []
          }
        },
        {
          "output_type": "display_data",
          "data": {
            "image/png": "[encoded data removed]",
            "text/plain": [
              "<Figure size 432x288 with 1 Axes>"
            ]
          },
          "metadata": {
            "tags": []
          }
        },
        {
          "output_type": "display_data",
          "data": {
            "image/png": "[encoded data removed]",
            "text/plain": [
              "<Figure size 432x288 with 1 Axes>"
            ]
          },
          "metadata": {
            "tags": []
          }
        },
        {
          "output_type": "display_data",
          "data": {
            "image/png": "[encoded data removed]",
            "text/plain": [
              "<Figure size 432x288 with 1 Axes>"
            ]
          },
          "metadata": {
            "tags": []
          }
        }
      ]
    },
    {
      "cell_type": "code",
      "metadata": {
        "id": "07ZZN8WTY1zj",
        "colab_type": "code",
        "outputId": "05766a54-c010-4dd8-a60a-645795ba1400",
        "colab": {
          "base_uri": "https://localhost:8080/",
          "height": 517
        }
      },
      "source": [
        "# birth rate using line graph\n",
        "plt.style.use('ggplot')\n",
        "plt.figure(figsize = (15,8))\n",
        "#globalEA[globalEA.country == \"Kenya\"].plot(x ='year',y = 'birth_rate',label = \"KE\")\n",
        "plt.plot(globalEA[globalEA.country == \"Uganda\"].year,globalEA[globalEA.country == \"Uganda\"].birth_rate,color = \"blue\",label = \"UG\")\n",
        "plt.plot(globalEA[globalEA.country == \"Kenya\"].year,globalEA[globalEA.country == \"Kenya\"].birth_rate,color = \"red\",label = \"Ke\")\n",
        "plt.plot(globalEA[globalEA.country == \"Tanzania\"].year,globalEA[globalEA.country == \"Tanzania\"].birth_rate,color = \"green\",label = \"Tz\")\n",
        "plt.plot(globalEA[globalEA.country == \"Rwanda\"].year,globalEA[globalEA.country == \"Rwanda\"].birth_rate,color = \"orange\",label = \"RD\")\n",
        "plt.xticks(rotation =60)\n",
        "plt.legend()\n",
        "plt.title(\"Birthrates in East Africa\")\n",
        "plt.show()"
      ],
      "execution_count": 0,
      "outputs": [
        {
          "output_type": "display_data",
          "data": {
            "image/png": "[encoded data removed]",
            "text/plain": [
              "<Figure size 1080x576 with 1 Axes>"
            ]
          },
          "metadata": {
            "tags": []
          }
        }
      ]
    },
    {
      "cell_type": "code",
      "metadata": {
        "id": "Y5EIQN8yJ0d4",
        "colab_type": "code",
        "outputId": "4ff94b59-4977-479e-ddc4-2eebb7e76af1",
        "colab": {
          "base_uri": "https://localhost:8080/",
          "height": 1000
        }
      },
      "source": [
        "for i in globalEA.country.unique():\n",
        "  plt.figure()\n",
        "  sns.boxplot(x = globalEA[globalEA.country==i]['death_rate'])\n",
        "  plt.title(f\"Boxplots({i})\")\n",
        "  plt.show()\n",
        "\n",
        "# plt.style.use('ggplot')\n",
        "plt.figure(figsize = (15,5))\n",
        "#globalEA[globalEA.country == \"Kenya\"].plot(x ='year',y = 'birth_rate',label = \"KE\")\n",
        "plt.plot(globalEA[globalEA.country == \"Uganda\"].year,globalEA[globalEA.country == \"Uganda\"]['death_rate'],label = \"UG\")\n",
        "plt.plot(globalEA[globalEA.country == \"Kenya\"].year,globalEA[globalEA.country == \"Kenya\"]['death_rate'],label = \"Ke\")\n",
        "plt.plot(globalEA[globalEA.country == \"Tanzania\"].year,globalEA[globalEA.country == \"Tanzania\"]['death_rate'],label = \"Tz\")\n",
        "plt.plot(globalEA[globalEA.country == \"Rwanda\"].year,globalEA[globalEA.country == \"Rwanda\"]['death_rate'],label = \"RD\")\n",
        "plt.xticks(rotation =60)\n",
        "plt.legend()\n",
        "plt.title(\"Deathrates in East Africa\")\n",
        "plt.show()"
      ],
      "execution_count": 0,
      "outputs": [
        {
          "output_type": "display_data",
          "data": {
            "image/png": "[encoded data removed]",
            "text/plain": [
              "<Figure size 432x288 with 1 Axes>"
            ]
          },
          "metadata": {
            "tags": []
          }
        },
        {
          "output_type": "display_data",
          "data": {
            "image/png": "[encoded data removed]",
            "text/plain": [
              "<Figure size 432x288 with 1 Axes>"
            ]
          },
          "metadata": {
            "tags": []
          }
        },
        {
          "output_type": "display_data",
          "data": {
            "image/png": "[encoded data removed]",
            "text/plain": [
              "<Figure size 432x288 with 1 Axes>"
            ]
          },
          "metadata": {
            "tags": []
          }
        },
        {
          "output_type": "display_data",
          "data": {
            "image/png": "[encoded data removed]",
            "text/plain": [
              "<Figure size 432x288 with 1 Axes>"
            ]
          },
          "metadata": {
            "tags": []
          }
        },
        {
          "output_type": "display_data",
          "data": {
            "image/png": "[encoded data removed]",
            "text/plain": [
              "<Figure size 1080x360 with 1 Axes>"
            ]
          },
          "metadata": {
            "tags": []
          }
        }
      ]
    },
    {
      "cell_type": "code",
      "metadata": {
        "id": "mktx4I_0J_CI",
        "colab_type": "code",
        "outputId": "ae436854-ff4c-4303-bd80-31964fc85411",
        "colab": {
          "base_uri": "https://localhost:8080/",
          "height": 619
        }
      },
      "source": [
        "import seaborn as sns\n",
        "sns.boxplot(x = globalEA['fertility_rate'])\n",
        "plt.figure(figsize = (15,5))\n",
        "#globalEA[globalEA.country == \"Kenya\"].plot(x ='year',y = 'birth_rate',label = \"KE\")\n",
        "plt.plot(globalEA[globalEA.country == \"Uganda\"].year,globalEA[globalEA.country == \"Uganda\"].fertility_rate,color=\"blue\", label = \"UG\")\n",
        "plt.plot(globalEA[globalEA.country == \"Kenya\"].year,globalEA[globalEA.country == \"Kenya\"].fertility_rate,color=\"red\",label = \"Ke\")\n",
        "plt.plot(globalEA[globalEA.country == \"Tanzania\"].year,globalEA[globalEA.country == \"Tanzania\"].fertility_rate,color=\"green\",label = \"Tz\")\n",
        "plt.plot(globalEA[globalEA.country == \"Rwanda\"].year,globalEA[globalEA.country == \"Rwanda\"].fertility_rate,color=\"orange\",label = \"RD\")\n",
        "plt.xticks(rotation =60)\n",
        "plt.legend()\n",
        "plt.title(\"Fertility Rates in East Africa\")\n",
        "plt.show()"
      ],
      "execution_count": 0,
      "outputs": [
        {
          "output_type": "display_data",
          "data": {
            "image/png": "[encoded data removed]",
            "text/plain": [
              "<Figure size 432x288 with 1 Axes>"
            ]
          },
          "metadata": {
            "tags": []
          }
        },
        {
          "output_type": "display_data",
          "data": {
            "image/png": "[encoded data removed]",
            "text/plain": [
              "<Figure size 1080x360 with 1 Axes>"
            ]
          },
          "metadata": {
            "tags": []
          }
        }
      ]
    },
    {
      "cell_type": "code",
      "metadata": {
        "id": "XMow0XV3KLH9",
        "colab_type": "code",
        "outputId": "b4c5fd35-ceef-4f9f-b7a5-4cf98656c933",
        "colab": {
          "base_uri": "https://localhost:8080/",
          "height": 619
        }
      },
      "source": [
        "import seaborn as sns\n",
        "sns.boxplot(x = globalEA['female_expectancy_at_birth'])\n",
        "\n",
        "plt.figure(figsize = (15,5))\n",
        "#globalEA[globalEA.country == \"Kenya\"].plot(x ='year',y = 'birth_rate',label = \"KE\")\n",
        "plt.plot(globalEA[globalEA.country == \"Uganda\"].year,globalEA[globalEA.country == \"Uganda\"].female_expectancy_at_birth,color=\"blue\",label = \"UG\")\n",
        "plt.plot(globalEA[globalEA.country == \"Kenya\"].year,globalEA[globalEA.country == \"Kenya\"].female_expectancy_at_birth,color=\"red\",label = \"Ke\")\n",
        "plt.plot(globalEA[globalEA.country == \"Tanzania\"].year,globalEA[globalEA.country == \"Tanzania\"].female_expectancy_at_birth,color=\"green\",label = \"Tz\")\n",
        "plt.plot(globalEA[globalEA.country == \"Rwanda\"].year,globalEA[globalEA.country == \"Rwanda\"].female_expectancy_at_birth,color=\"orange\",label = \"RD\")\n",
        "plt.xticks(rotation =60)\n",
        "plt.legend()\n",
        "plt.title(\"female_expectancy_at_birth\")\n",
        "plt.show()"
      ],
      "execution_count": 0,
      "outputs": [
        {
          "output_type": "display_data",
          "data": {
            "image/png": "[encoded data removed]",
            "text/plain": [
              "<Figure size 432x288 with 1 Axes>"
            ]
          },
          "metadata": {
            "tags": []
          }
        },
        {
          "output_type": "display_data",
          "data": {
            "image/png": "[encoded data removed]",
            "text/plain": [
              "<Figure size 1080x360 with 1 Axes>"
            ]
          },
          "metadata": {
            "tags": []
          }
        }
      ]
    },
    {
      "cell_type": "code",
      "metadata": {
        "id": "YhQkub-DW-0h",
        "colab_type": "code",
        "outputId": "1594c56c-73cb-4ae2-b7e6-56513ad6cb87",
        "colab": {
          "base_uri": "https://localhost:8080/",
          "height": 299
        }
      },
      "source": [
        "import seaborn as sns\n",
        "sns.boxplot(x = globalEA[\"male_expectancy_at_birth\"])"
      ],
      "execution_count": 0,
      "outputs": [
        {
          "output_type": "execute_result",
          "data": {
            "text/plain": [
              "<matplotlib.axes._subplots.AxesSubplot at 0x7f9fa952b588>"
            ]
          },
          "metadata": {
            "tags": []
          },
          "execution_count": 29
        },
        {
          "output_type": "display_data",
          "data": {
            "image/png": "[encoded data removed]",
            "text/plain": [
              "<Figure size 432x288 with 1 Axes>"
            ]
          },
          "metadata": {
            "tags": []
          }
        }
      ]
    },
    {
      "cell_type": "code",
      "metadata": {
        "id": "rgHEs7cLMYmM",
        "colab_type": "code",
        "outputId": "e7eea69e-1e67-43c1-ffa1-bd7f278eea24",
        "colab": {
          "base_uri": "https://localhost:8080/",
          "height": 299
        }
      },
      "source": [
        "import seaborn as sns\n",
        "sns.boxplot(x = globalEA['rural_surface_area'])"
      ],
      "execution_count": 0,
      "outputs": [
        {
          "output_type": "execute_result",
          "data": {
            "text/plain": [
              "<matplotlib.axes._subplots.AxesSubplot at 0x7f9fa7834518>"
            ]
          },
          "metadata": {
            "tags": []
          },
          "execution_count": 30
        },
        {
          "output_type": "display_data",
          "data": {
            "image/png": "[encoded data removed]",
            "text/plain": [
              "<Figure size 432x288 with 1 Axes>"
            ]
          },
          "metadata": {
            "tags": []
          }
        }
      ]
    },
    {
      "cell_type": "code",
      "metadata": {
        "id": "ylHuFQvdMg9N",
        "colab_type": "code",
        "outputId": "1e4ca43a-d8d0-4c92-c290-b4a750cc5289",
        "colab": {
          "base_uri": "https://localhost:8080/",
          "height": 299
        }
      },
      "source": [
        "import seaborn as sns\n",
        "sns.boxplot(x = globalEA['urban_population_density'])"
      ],
      "execution_count": 0,
      "outputs": [
        {
          "output_type": "execute_result",
          "data": {
            "text/plain": [
              "<matplotlib.axes._subplots.AxesSubplot at 0x7f9fa77adf60>"
            ]
          },
          "metadata": {
            "tags": []
          },
          "execution_count": 31
        },
        {
          "output_type": "display_data",
          "data": {
            "image/png": "[encoded data removed]",
            "text/plain": [
              "<Figure size 432x288 with 1 Axes>"
            ]
          },
          "metadata": {
            "tags": []
          }
        }
      ]
    },
    {
      "cell_type": "code",
      "metadata": {
        "id": "waxqI7eqMnzO",
        "colab_type": "code",
        "outputId": "c8b02aca-8885-430b-900a-87b4aa8ab1a0",
        "colab": {
          "base_uri": "https://localhost:8080/",
          "height": 299
        }
      },
      "source": [
        "import seaborn as sns\n",
        "sns.boxplot(x = globalEA['urban_population_percent'])"
      ],
      "execution_count": 0,
      "outputs": [
        {
          "output_type": "execute_result",
          "data": {
            "text/plain": [
              "<matplotlib.axes._subplots.AxesSubplot at 0x7f9fa777dda0>"
            ]
          },
          "metadata": {
            "tags": []
          },
          "execution_count": 32
        },
        {
          "output_type": "display_data",
          "data": {
            "image/png": "[encoded data removed]",
            "text/plain": [
              "<Figure size 432x288 with 1 Axes>"
            ]
          },
          "metadata": {
            "tags": []
          }
        }
      ]
    },
    {
      "cell_type": "code",
      "metadata": {
        "id": "ndV9JLHBMtcp",
        "colab_type": "code",
        "outputId": "4a8082d7-57ce-4838-8139-10abca9ab638",
        "colab": {
          "base_uri": "https://localhost:8080/",
          "height": 299
        }
      },
      "source": [
        "import seaborn as sns\n",
        "sns.boxplot(x = globalEA['urban_population_percent_growth'])"
      ],
      "execution_count": 0,
      "outputs": [
        {
          "output_type": "execute_result",
          "data": {
            "text/plain": [
              "<matplotlib.axes._subplots.AxesSubplot at 0x7f9fa76f4400>"
            ]
          },
          "metadata": {
            "tags": []
          },
          "execution_count": 33
        },
        {
          "output_type": "display_data",
          "data": {
            "image/png": "[encoded data removed]",
            "text/plain": [
              "<Figure size 432x288 with 1 Axes>"
            ]
          },
          "metadata": {
            "tags": []
          }
        }
      ]
    },
    {
      "cell_type": "markdown",
      "metadata": {
        "id": "VzZTayu_4UXW",
        "colab_type": "text"
      },
      "source": [
        "# **Analysis**"
      ]
    },
    {
      "cell_type": "markdown",
      "metadata": {
        "id": "OSXl2yTj4fLB",
        "colab_type": "text"
      },
      "source": [
        "Identify the rate of growth between Kenya. Rwanda, Tz and UG"
      ]
    },
    {
      "cell_type": "code",
      "metadata": {
        "id": "_JhNqAxE4T0-",
        "colab_type": "code",
        "outputId": "bbe60e26-ea30-4956-e2c5-ec4b35386ef7",
        "colab": {
          "base_uri": "https://localhost:8080/",
          "height": 173
        }
      },
      "source": [
        "x = globalEA[['country','year','cellular_subscriptions']]\n",
        "t = x[\"year\"].isin([2013])\n",
        "x[t].reset_index().drop(columns='index')"
      ],
      "execution_count": 0,
      "outputs": [
        {
          "output_type": "execute_result",
          "data": {
            "text/html": [
              "<div>\n",
              "<style scoped>\n",
              "    .dataframe tbody tr th:only-of-type {\n",
              "        vertical-align: middle;\n",
              "    }\n",
              "\n",
              "    .dataframe tbody tr th {\n",
              "        vertical-align: top;\n",
              "    }\n",
              "\n",
              "    .dataframe thead th {\n",
              "        text-align: right;\n",
              "    }\n",
              "</style>\n",
              "<table border=\"1\" class=\"dataframe\">\n",
              "  <thead>\n",
              "    <tr style=\"text-align: right;\">\n",
              "      <th></th>\n",
              "      <th>country</th>\n",
              "      <th>year</th>\n",
              "      <th>cellular_subscriptions</th>\n",
              "    </tr>\n",
              "  </thead>\n",
              "  <tbody>\n",
              "    <tr>\n",
              "      <th>0</th>\n",
              "      <td>Tanzania</td>\n",
              "      <td>2013</td>\n",
              "      <td>27219283.0</td>\n",
              "    </tr>\n",
              "    <tr>\n",
              "      <th>1</th>\n",
              "      <td>Rwanda</td>\n",
              "      <td>2013</td>\n",
              "      <td>5690751.0</td>\n",
              "    </tr>\n",
              "    <tr>\n",
              "      <th>2</th>\n",
              "      <td>Kenya</td>\n",
              "      <td>2013</td>\n",
              "      <td>30731754.0</td>\n",
              "    </tr>\n",
              "    <tr>\n",
              "      <th>3</th>\n",
              "      <td>Uganda</td>\n",
              "      <td>2013</td>\n",
              "      <td>16356387.0</td>\n",
              "    </tr>\n",
              "  </tbody>\n",
              "</table>\n",
              "</div>"
            ],
            "text/plain": [
              "    country  year  cellular_subscriptions\n",
              "0  Tanzania  2013              27219283.0\n",
              "1    Rwanda  2013               5690751.0\n",
              "2     Kenya  2013              30731754.0\n",
              "3    Uganda  2013              16356387.0"
            ]
          },
          "metadata": {
            "tags": []
          },
          "execution_count": 34
        }
      ]
    },
    {
      "cell_type": "code",
      "metadata": {
        "id": "ib6QazLa4kAy",
        "colab_type": "code",
        "outputId": "c64aa613-1978-482f-8652-220732cffaad",
        "colab": {
          "base_uri": "https://localhost:8080/",
          "height": 102
        }
      },
      "source": [
        "# Find the difference between in total population bewteen 2000 and 2013 for the four countries\n",
        "globalEA_20= globalEA[(globalEA['year'] == 2000)]\n",
        "globalEA_23= globalEA[(globalEA['year'] == 2013)]\n",
        "tr=globalEA_20['total_population'].reset_index(drop=True)\n",
        "mr=globalEA_23['total_population'].reset_index(drop=True)\n",
        "pq=mr-tr\n",
        "percent=(pq*100)/tr\n",
        "percent"
      ],
      "execution_count": 0,
      "outputs": [
        {
          "output_type": "execute_result",
          "data": {
            "text/plain": [
              "0    43.998352\n",
              "1    45.903210\n",
              "2    41.667089\n",
              "3    54.611916\n",
              "Name: total_population, dtype: float64"
            ]
          },
          "metadata": {
            "tags": []
          },
          "execution_count": 35
        }
      ]
    },
    {
      "cell_type": "code",
      "metadata": {
        "id": "kzBcv5n45GTt",
        "colab_type": "code",
        "outputId": "f5f1994d-3f1b-441b-ed8e-9275f97782ff",
        "colab": {
          "base_uri": "https://localhost:8080/",
          "height": 170
        }
      },
      "source": [
        "globalEA.columns"
      ],
      "execution_count": 0,
      "outputs": [
        {
          "output_type": "execute_result",
          "data": {
            "text/plain": [
              "Index(['country', 'year', 'birth_rate', 'death_rate', 'fertility_rate',\n",
              "       'female_expectancy_at_birth', 'male_expectancy_at_birth',\n",
              "       'total_expectancy_at_birth', 'population_growth', 'total_population',\n",
              "       'cellular_subscriptions', 'cellular_subscriptions_per_100_people',\n",
              "       'rural_agricultural_land', 'rural_agricultural_land_percent',\n",
              "       'rural_land_area', 'rural_population', 'rural_population_growth',\n",
              "       'rural_surface_area', 'urban_population_density',\n",
              "       'urban_population_percent', 'urban_population_percent_growth'],\n",
              "      dtype='object')"
            ]
          },
          "metadata": {
            "tags": []
          },
          "execution_count": 36
        }
      ]
    },
    {
      "cell_type": "code",
      "metadata": {
        "id": "d0xJc_2G5It0",
        "colab_type": "code",
        "outputId": "6e638fba-301e-4d47-f9c4-1fc964220f1d",
        "colab": {
          "base_uri": "https://localhost:8080/",
          "height": 429
        }
      },
      "source": [
        "# Scatter plot -  does total ppn affect urban ppn density\n",
        "plt.figure()\n",
        "plt.scatter(globalEA['urban_population_density'],globalEA['total_population'])\n",
        "plt.show()\n",
        "globalEA.columns"
      ],
      "execution_count": 0,
      "outputs": [
        {
          "output_type": "display_data",
          "data": {
            "image/png": "[encoded data removed]",
            "text/plain": [
              "<Figure size 432x288 with 1 Axes>"
            ]
          },
          "metadata": {
            "tags": []
          }
        },
        {
          "output_type": "execute_result",
          "data": {
            "text/plain": [
              "Index(['country', 'year', 'birth_rate', 'death_rate', 'fertility_rate',\n",
              "       'female_expectancy_at_birth', 'male_expectancy_at_birth',\n",
              "       'total_expectancy_at_birth', 'population_growth', 'total_population',\n",
              "       'cellular_subscriptions', 'cellular_subscriptions_per_100_people',\n",
              "       'rural_agricultural_land', 'rural_agricultural_land_percent',\n",
              "       'rural_land_area', 'rural_population', 'rural_population_growth',\n",
              "       'rural_surface_area', 'urban_population_density',\n",
              "       'urban_population_percent', 'urban_population_percent_growth'],\n",
              "      dtype='object')"
            ]
          },
          "metadata": {
            "tags": []
          },
          "execution_count": 37
        }
      ]
    },
    {
      "cell_type": "code",
      "metadata": {
        "id": "qdsP96kJg27_",
        "colab_type": "code",
        "outputId": "29f4f9bf-e613-4052-8b16-4a9ad5972d9f",
        "colab": {
          "base_uri": "https://localhost:8080/",
          "height": 286
        }
      },
      "source": [
        "# mobile subscription\n",
        "variable = globalEA[['country','cellular_subscriptions']]\n",
        "variable.head()\n",
        "plt.subplot()\n"
      ],
      "execution_count": 0,
      "outputs": [
        {
          "output_type": "execute_result",
          "data": {
            "text/plain": [
              "<matplotlib.axes._subplots.AxesSubplot at 0x7f9fa787d4a8>"
            ]
          },
          "metadata": {
            "tags": []
          },
          "execution_count": 38
        },
        {
          "output_type": "display_data",
          "data": {
            "image/png": "[encoded data removed]",
            "text/plain": [
              "<Figure size 432x288 with 1 Axes>"
            ]
          },
          "metadata": {
            "tags": []
          }
        }
      ]
    },
    {
      "cell_type": "code",
      "metadata": {
        "id": "Cvmr_RMgim1f",
        "colab_type": "code",
        "outputId": "10a5ed47-8dd8-4534-b905-2e0e0925d3ec",
        "colab": {
          "base_uri": "https://localhost:8080/",
          "height": 204
        }
      },
      "source": [
        "variable[(variable.country =='Rwanda') & (variable.cellular_subscriptions>0)].head()"
      ],
      "execution_count": 0,
      "outputs": [
        {
          "output_type": "execute_result",
          "data": {
            "text/html": [
              "<div>\n",
              "<style scoped>\n",
              "    .dataframe tbody tr th:only-of-type {\n",
              "        vertical-align: middle;\n",
              "    }\n",
              "\n",
              "    .dataframe tbody tr th {\n",
              "        vertical-align: top;\n",
              "    }\n",
              "\n",
              "    .dataframe thead th {\n",
              "        text-align: right;\n",
              "    }\n",
              "</style>\n",
              "<table border=\"1\" class=\"dataframe\">\n",
              "  <thead>\n",
              "    <tr style=\"text-align: right;\">\n",
              "      <th></th>\n",
              "      <th>country</th>\n",
              "      <th>cellular_subscriptions</th>\n",
              "    </tr>\n",
              "  </thead>\n",
              "  <tbody>\n",
              "    <tr>\n",
              "      <th>1787</th>\n",
              "      <td>Rwanda</td>\n",
              "      <td>5000.0</td>\n",
              "    </tr>\n",
              "    <tr>\n",
              "      <th>1788</th>\n",
              "      <td>Rwanda</td>\n",
              "      <td>11000.0</td>\n",
              "    </tr>\n",
              "    <tr>\n",
              "      <th>1789</th>\n",
              "      <td>Rwanda</td>\n",
              "      <td>39000.0</td>\n",
              "    </tr>\n",
              "    <tr>\n",
              "      <th>1790</th>\n",
              "      <td>Rwanda</td>\n",
              "      <td>65000.0</td>\n",
              "    </tr>\n",
              "    <tr>\n",
              "      <th>1791</th>\n",
              "      <td>Rwanda</td>\n",
              "      <td>82391.0</td>\n",
              "    </tr>\n",
              "  </tbody>\n",
              "</table>\n",
              "</div>"
            ],
            "text/plain": [
              "     country  cellular_subscriptions\n",
              "1787  Rwanda                  5000.0\n",
              "1788  Rwanda                 11000.0\n",
              "1789  Rwanda                 39000.0\n",
              "1790  Rwanda                 65000.0\n",
              "1791  Rwanda                 82391.0"
            ]
          },
          "metadata": {
            "tags": []
          },
          "execution_count": 39
        }
      ]
    },
    {
      "cell_type": "code",
      "metadata": {
        "id": "dijBmtgaoU_1",
        "colab_type": "code",
        "outputId": "93e1187c-84d0-4039-dc80-0ea2f1505329",
        "colab": {
          "base_uri": "https://localhost:8080/",
          "height": 204
        }
      },
      "source": [
        "variable[(variable.country =='Tanzania') & (variable.cellular_subscriptions>0)].head()"
      ],
      "execution_count": 0,
      "outputs": [
        {
          "output_type": "execute_result",
          "data": {
            "text/html": [
              "<div>\n",
              "<style scoped>\n",
              "    .dataframe tbody tr th:only-of-type {\n",
              "        vertical-align: middle;\n",
              "    }\n",
              "\n",
              "    .dataframe tbody tr th {\n",
              "        vertical-align: top;\n",
              "    }\n",
              "\n",
              "    .dataframe thead th {\n",
              "        text-align: right;\n",
              "    }\n",
              "</style>\n",
              "<table border=\"1\" class=\"dataframe\">\n",
              "  <thead>\n",
              "    <tr style=\"text-align: right;\">\n",
              "      <th></th>\n",
              "      <th>country</th>\n",
              "      <th>cellular_subscriptions</th>\n",
              "    </tr>\n",
              "  </thead>\n",
              "  <tbody>\n",
              "    <tr>\n",
              "      <th>967</th>\n",
              "      <td>Tanzania</td>\n",
              "      <td>371.0</td>\n",
              "    </tr>\n",
              "    <tr>\n",
              "      <th>968</th>\n",
              "      <td>Tanzania</td>\n",
              "      <td>3500.0</td>\n",
              "    </tr>\n",
              "    <tr>\n",
              "      <th>969</th>\n",
              "      <td>Tanzania</td>\n",
              "      <td>9038.0</td>\n",
              "    </tr>\n",
              "    <tr>\n",
              "      <th>970</th>\n",
              "      <td>Tanzania</td>\n",
              "      <td>20200.0</td>\n",
              "    </tr>\n",
              "    <tr>\n",
              "      <th>971</th>\n",
              "      <td>Tanzania</td>\n",
              "      <td>37940.0</td>\n",
              "    </tr>\n",
              "  </tbody>\n",
              "</table>\n",
              "</div>"
            ],
            "text/plain": [
              "      country  cellular_subscriptions\n",
              "967  Tanzania                   371.0\n",
              "968  Tanzania                  3500.0\n",
              "969  Tanzania                  9038.0\n",
              "970  Tanzania                 20200.0\n",
              "971  Tanzania                 37940.0"
            ]
          },
          "metadata": {
            "tags": []
          },
          "execution_count": 40
        }
      ]
    },
    {
      "cell_type": "code",
      "metadata": {
        "id": "q__HJNqCo33i",
        "colab_type": "code",
        "outputId": "868a625d-3a8a-49ab-e0c0-e949a95afffa",
        "colab": {
          "base_uri": "https://localhost:8080/",
          "height": 204
        }
      },
      "source": [
        "variable[(variable.country =='Rwanda') & (variable.cellular_subscriptions>0)].head()"
      ],
      "execution_count": 0,
      "outputs": [
        {
          "output_type": "execute_result",
          "data": {
            "text/html": [
              "<div>\n",
              "<style scoped>\n",
              "    .dataframe tbody tr th:only-of-type {\n",
              "        vertical-align: middle;\n",
              "    }\n",
              "\n",
              "    .dataframe tbody tr th {\n",
              "        vertical-align: top;\n",
              "    }\n",
              "\n",
              "    .dataframe thead th {\n",
              "        text-align: right;\n",
              "    }\n",
              "</style>\n",
              "<table border=\"1\" class=\"dataframe\">\n",
              "  <thead>\n",
              "    <tr style=\"text-align: right;\">\n",
              "      <th></th>\n",
              "      <th>country</th>\n",
              "      <th>cellular_subscriptions</th>\n",
              "    </tr>\n",
              "  </thead>\n",
              "  <tbody>\n",
              "    <tr>\n",
              "      <th>1787</th>\n",
              "      <td>Rwanda</td>\n",
              "      <td>5000.0</td>\n",
              "    </tr>\n",
              "    <tr>\n",
              "      <th>1788</th>\n",
              "      <td>Rwanda</td>\n",
              "      <td>11000.0</td>\n",
              "    </tr>\n",
              "    <tr>\n",
              "      <th>1789</th>\n",
              "      <td>Rwanda</td>\n",
              "      <td>39000.0</td>\n",
              "    </tr>\n",
              "    <tr>\n",
              "      <th>1790</th>\n",
              "      <td>Rwanda</td>\n",
              "      <td>65000.0</td>\n",
              "    </tr>\n",
              "    <tr>\n",
              "      <th>1791</th>\n",
              "      <td>Rwanda</td>\n",
              "      <td>82391.0</td>\n",
              "    </tr>\n",
              "  </tbody>\n",
              "</table>\n",
              "</div>"
            ],
            "text/plain": [
              "     country  cellular_subscriptions\n",
              "1787  Rwanda                  5000.0\n",
              "1788  Rwanda                 11000.0\n",
              "1789  Rwanda                 39000.0\n",
              "1790  Rwanda                 65000.0\n",
              "1791  Rwanda                 82391.0"
            ]
          },
          "metadata": {
            "tags": []
          },
          "execution_count": 41
        }
      ]
    },
    {
      "cell_type": "code",
      "metadata": {
        "id": "xz-1a74Lo8-L",
        "colab_type": "code",
        "outputId": "728fe8a7-76c8-4c87-8b86-3381b98a1071",
        "colab": {
          "base_uri": "https://localhost:8080/",
          "height": 204
        }
      },
      "source": [
        "variable[(variable.country =='Uganda') & (variable.cellular_subscriptions>0)].head()"
      ],
      "execution_count": 0,
      "outputs": [
        {
          "output_type": "execute_result",
          "data": {
            "text/html": [
              "<div>\n",
              "<style scoped>\n",
              "    .dataframe tbody tr th:only-of-type {\n",
              "        vertical-align: middle;\n",
              "    }\n",
              "\n",
              "    .dataframe tbody tr th {\n",
              "        vertical-align: top;\n",
              "    }\n",
              "\n",
              "    .dataframe thead th {\n",
              "        text-align: right;\n",
              "    }\n",
              "</style>\n",
              "<table border=\"1\" class=\"dataframe\">\n",
              "  <thead>\n",
              "    <tr style=\"text-align: right;\">\n",
              "      <th></th>\n",
              "      <th>country</th>\n",
              "      <th>cellular_subscriptions</th>\n",
              "    </tr>\n",
              "  </thead>\n",
              "  <tbody>\n",
              "    <tr>\n",
              "      <th>3280</th>\n",
              "      <td>Uganda</td>\n",
              "      <td>1747.0</td>\n",
              "    </tr>\n",
              "    <tr>\n",
              "      <th>3281</th>\n",
              "      <td>Uganda</td>\n",
              "      <td>4000.0</td>\n",
              "    </tr>\n",
              "    <tr>\n",
              "      <th>3282</th>\n",
              "      <td>Uganda</td>\n",
              "      <td>5000.0</td>\n",
              "    </tr>\n",
              "    <tr>\n",
              "      <th>3283</th>\n",
              "      <td>Uganda</td>\n",
              "      <td>30000.0</td>\n",
              "    </tr>\n",
              "    <tr>\n",
              "      <th>3284</th>\n",
              "      <td>Uganda</td>\n",
              "      <td>56358.0</td>\n",
              "    </tr>\n",
              "  </tbody>\n",
              "</table>\n",
              "</div>"
            ],
            "text/plain": [
              "     country  cellular_subscriptions\n",
              "3280  Uganda                  1747.0\n",
              "3281  Uganda                  4000.0\n",
              "3282  Uganda                  5000.0\n",
              "3283  Uganda                 30000.0\n",
              "3284  Uganda                 56358.0"
            ]
          },
          "metadata": {
            "tags": []
          },
          "execution_count": 42
        }
      ]
    },
    {
      "cell_type": "markdown",
      "metadata": {
        "id": "LeaeuO04SUwP",
        "colab_type": "text"
      },
      "source": [
        "Visualization for our main explanatory variables"
      ]
    },
    {
      "cell_type": "code",
      "metadata": {
        "id": "WrNIdNSWSfHg",
        "colab_type": "code",
        "colab": {}
      },
      "source": [
        "import seaborn as sns"
      ],
      "execution_count": 0,
      "outputs": []
    },
    {
      "cell_type": "code",
      "metadata": {
        "id": "CSmgDt4ASm4C",
        "colab_type": "code",
        "outputId": "6f567f19-0d15-4229-87ea-859dfcc8fbf9",
        "colab": {
          "base_uri": "https://localhost:8080/",
          "height": 1000
        }
      },
      "source": [
        "#The correlation of the data\n",
        "corr = globalEA.corr()\n",
        "display(corr)\n",
        "sns.heatmap(corr,xticklabels=corr.columns,yticklabels=corr.columns,cmap=\"RdBu\")\n",
        "#everything in the diagonal should be dark blue. This is attributed because we can obviously see multicollinearity\n"
      ],
      "execution_count": 0,
      "outputs": [
        {
          "output_type": "display_data",
          "data": {
            "text/html": [
              "<div>\n",
              "<style scoped>\n",
              "    .dataframe tbody tr th:only-of-type {\n",
              "        vertical-align: middle;\n",
              "    }\n",
              "\n",
              "    .dataframe tbody tr th {\n",
              "        vertical-align: top;\n",
              "    }\n",
              "\n",
              "    .dataframe thead th {\n",
              "        text-align: right;\n",
              "    }\n",
              "</style>\n",
              "<table border=\"1\" class=\"dataframe\">\n",
              "  <thead>\n",
              "    <tr style=\"text-align: right;\">\n",
              "      <th></th>\n",
              "      <th>year</th>\n",
              "      <th>birth_rate</th>\n",
              "      <th>death_rate</th>\n",
              "      <th>fertility_rate</th>\n",
              "      <th>female_expectancy_at_birth</th>\n",
              "      <th>male_expectancy_at_birth</th>\n",
              "      <th>total_expectancy_at_birth</th>\n",
              "      <th>population_growth</th>\n",
              "      <th>total_population</th>\n",
              "      <th>cellular_subscriptions</th>\n",
              "      <th>cellular_subscriptions_per_100_people</th>\n",
              "      <th>rural_agricultural_land</th>\n",
              "      <th>rural_agricultural_land_percent</th>\n",
              "      <th>rural_land_area</th>\n",
              "      <th>rural_population</th>\n",
              "      <th>rural_population_growth</th>\n",
              "      <th>rural_surface_area</th>\n",
              "      <th>urban_population_density</th>\n",
              "      <th>urban_population_percent</th>\n",
              "      <th>urban_population_percent_growth</th>\n",
              "    </tr>\n",
              "  </thead>\n",
              "  <tbody>\n",
              "    <tr>\n",
              "      <th>year</th>\n",
              "      <td>1.000000</td>\n",
              "      <td>-0.715448</td>\n",
              "      <td>-0.349035</td>\n",
              "      <td>-0.754714</td>\n",
              "      <td>0.283695</td>\n",
              "      <td>0.366005</td>\n",
              "      <td>0.326361</td>\n",
              "      <td>-0.043014</td>\n",
              "      <td>0.559195</td>\n",
              "      <td>0.601834</td>\n",
              "      <td>0.676150</td>\n",
              "      <td>0.054972</td>\n",
              "      <td>0.154520</td>\n",
              "      <td>0.000000</td>\n",
              "      <td>0.526945</td>\n",
              "      <td>-0.125620</td>\n",
              "      <td>0.000000</td>\n",
              "      <td>0.277753</td>\n",
              "      <td>0.646381</td>\n",
              "      <td>0.018670</td>\n",
              "    </tr>\n",
              "    <tr>\n",
              "      <th>birth_rate</th>\n",
              "      <td>-0.715448</td>\n",
              "      <td>1.000000</td>\n",
              "      <td>0.400652</td>\n",
              "      <td>0.978720</td>\n",
              "      <td>-0.399074</td>\n",
              "      <td>-0.424604</td>\n",
              "      <td>-0.412947</td>\n",
              "      <td>0.088107</td>\n",
              "      <td>-0.475370</td>\n",
              "      <td>-0.406655</td>\n",
              "      <td>-0.475579</td>\n",
              "      <td>-0.322105</td>\n",
              "      <td>0.222647</td>\n",
              "      <td>-0.308114</td>\n",
              "      <td>-0.416043</td>\n",
              "      <td>0.191963</td>\n",
              "      <td>-0.285169</td>\n",
              "      <td>-0.102030</td>\n",
              "      <td>-0.821329</td>\n",
              "      <td>-0.067308</td>\n",
              "    </tr>\n",
              "    <tr>\n",
              "      <th>death_rate</th>\n",
              "      <td>-0.349035</td>\n",
              "      <td>0.400652</td>\n",
              "      <td>1.000000</td>\n",
              "      <td>0.441796</td>\n",
              "      <td>-0.951531</td>\n",
              "      <td>-0.972307</td>\n",
              "      <td>-0.964107</td>\n",
              "      <td>-0.539019</td>\n",
              "      <td>-0.515235</td>\n",
              "      <td>-0.346111</td>\n",
              "      <td>-0.400307</td>\n",
              "      <td>-0.425611</td>\n",
              "      <td>0.289880</td>\n",
              "      <td>-0.358533</td>\n",
              "      <td>-0.507139</td>\n",
              "      <td>-0.520289</td>\n",
              "      <td>-0.351065</td>\n",
              "      <td>0.217103</td>\n",
              "      <td>-0.627147</td>\n",
              "      <td>0.192606</td>\n",
              "    </tr>\n",
              "    <tr>\n",
              "      <th>fertility_rate</th>\n",
              "      <td>-0.754714</td>\n",
              "      <td>0.978720</td>\n",
              "      <td>0.441796</td>\n",
              "      <td>1.000000</td>\n",
              "      <td>-0.420513</td>\n",
              "      <td>-0.457801</td>\n",
              "      <td>-0.440441</td>\n",
              "      <td>0.073715</td>\n",
              "      <td>-0.587356</td>\n",
              "      <td>-0.449340</td>\n",
              "      <td>-0.513544</td>\n",
              "      <td>-0.394428</td>\n",
              "      <td>0.289141</td>\n",
              "      <td>-0.364066</td>\n",
              "      <td>-0.539468</td>\n",
              "      <td>0.170348</td>\n",
              "      <td>-0.347850</td>\n",
              "      <td>0.007394</td>\n",
              "      <td>-0.855339</td>\n",
              "      <td>-0.024546</td>\n",
              "    </tr>\n",
              "    <tr>\n",
              "      <th>female_expectancy_at_birth</th>\n",
              "      <td>0.283695</td>\n",
              "      <td>-0.399074</td>\n",
              "      <td>-0.951531</td>\n",
              "      <td>-0.420513</td>\n",
              "      <td>1.000000</td>\n",
              "      <td>0.991805</td>\n",
              "      <td>0.997864</td>\n",
              "      <td>0.386809</td>\n",
              "      <td>0.468416</td>\n",
              "      <td>0.412637</td>\n",
              "      <td>0.480941</td>\n",
              "      <td>0.425519</td>\n",
              "      <td>-0.279926</td>\n",
              "      <td>0.356099</td>\n",
              "      <td>0.451039</td>\n",
              "      <td>0.373094</td>\n",
              "      <td>0.342141</td>\n",
              "      <td>-0.204549</td>\n",
              "      <td>0.616092</td>\n",
              "      <td>-0.265504</td>\n",
              "    </tr>\n",
              "    <tr>\n",
              "      <th>male_expectancy_at_birth</th>\n",
              "      <td>0.366005</td>\n",
              "      <td>-0.424604</td>\n",
              "      <td>-0.972307</td>\n",
              "      <td>-0.457801</td>\n",
              "      <td>0.991805</td>\n",
              "      <td>1.000000</td>\n",
              "      <td>0.998032</td>\n",
              "      <td>0.401098</td>\n",
              "      <td>0.523251</td>\n",
              "      <td>0.424141</td>\n",
              "      <td>0.492604</td>\n",
              "      <td>0.429558</td>\n",
              "      <td>-0.270629</td>\n",
              "      <td>0.356013</td>\n",
              "      <td>0.508364</td>\n",
              "      <td>0.383829</td>\n",
              "      <td>0.344984</td>\n",
              "      <td>-0.198012</td>\n",
              "      <td>0.651017</td>\n",
              "      <td>-0.263350</td>\n",
              "    </tr>\n",
              "    <tr>\n",
              "      <th>total_expectancy_at_birth</th>\n",
              "      <td>0.326361</td>\n",
              "      <td>-0.412947</td>\n",
              "      <td>-0.964107</td>\n",
              "      <td>-0.440441</td>\n",
              "      <td>0.997864</td>\n",
              "      <td>0.998032</td>\n",
              "      <td>1.000000</td>\n",
              "      <td>0.394909</td>\n",
              "      <td>0.497414</td>\n",
              "      <td>0.419366</td>\n",
              "      <td>0.487892</td>\n",
              "      <td>0.428458</td>\n",
              "      <td>-0.275748</td>\n",
              "      <td>0.356787</td>\n",
              "      <td>0.481274</td>\n",
              "      <td>0.379349</td>\n",
              "      <td>0.344297</td>\n",
              "      <td>-0.201627</td>\n",
              "      <td>0.635213</td>\n",
              "      <td>-0.264948</td>\n",
              "    </tr>\n",
              "    <tr>\n",
              "      <th>population_growth</th>\n",
              "      <td>-0.043014</td>\n",
              "      <td>0.088107</td>\n",
              "      <td>-0.539019</td>\n",
              "      <td>0.073715</td>\n",
              "      <td>0.386809</td>\n",
              "      <td>0.401098</td>\n",
              "      <td>0.394909</td>\n",
              "      <td>1.000000</td>\n",
              "      <td>0.037361</td>\n",
              "      <td>-0.010036</td>\n",
              "      <td>-0.011756</td>\n",
              "      <td>0.053263</td>\n",
              "      <td>-0.063514</td>\n",
              "      <td>0.037242</td>\n",
              "      <td>0.048433</td>\n",
              "      <td>0.984174</td>\n",
              "      <td>0.040164</td>\n",
              "      <td>-0.065951</td>\n",
              "      <td>0.067252</td>\n",
              "      <td>0.324045</td>\n",
              "    </tr>\n",
              "    <tr>\n",
              "      <th>total_population</th>\n",
              "      <td>0.559195</td>\n",
              "      <td>-0.475370</td>\n",
              "      <td>-0.515235</td>\n",
              "      <td>-0.587356</td>\n",
              "      <td>0.468416</td>\n",
              "      <td>0.523251</td>\n",
              "      <td>0.497414</td>\n",
              "      <td>0.037361</td>\n",
              "      <td>1.000000</td>\n",
              "      <td>0.614654</td>\n",
              "      <td>0.531591</td>\n",
              "      <td>0.788680</td>\n",
              "      <td>-0.619922</td>\n",
              "      <td>0.707965</td>\n",
              "      <td>0.992065</td>\n",
              "      <td>0.045021</td>\n",
              "      <td>0.711902</td>\n",
              "      <td>-0.618015</td>\n",
              "      <td>0.729526</td>\n",
              "      <td>-0.392903</td>\n",
              "    </tr>\n",
              "    <tr>\n",
              "      <th>cellular_subscriptions</th>\n",
              "      <td>0.601834</td>\n",
              "      <td>-0.406655</td>\n",
              "      <td>-0.346111</td>\n",
              "      <td>-0.449340</td>\n",
              "      <td>0.412637</td>\n",
              "      <td>0.424141</td>\n",
              "      <td>0.419366</td>\n",
              "      <td>-0.010036</td>\n",
              "      <td>0.614654</td>\n",
              "      <td>1.000000</td>\n",
              "      <td>0.952132</td>\n",
              "      <td>0.264557</td>\n",
              "      <td>-0.091569</td>\n",
              "      <td>0.195213</td>\n",
              "      <td>0.570691</td>\n",
              "      <td>-0.044098</td>\n",
              "      <td>0.192395</td>\n",
              "      <td>-0.083090</td>\n",
              "      <td>0.492678</td>\n",
              "      <td>-0.105292</td>\n",
              "    </tr>\n",
              "    <tr>\n",
              "      <th>cellular_subscriptions_per_100_people</th>\n",
              "      <td>0.676150</td>\n",
              "      <td>-0.475579</td>\n",
              "      <td>-0.400307</td>\n",
              "      <td>-0.513544</td>\n",
              "      <td>0.480941</td>\n",
              "      <td>0.492604</td>\n",
              "      <td>0.487892</td>\n",
              "      <td>-0.011756</td>\n",
              "      <td>0.531591</td>\n",
              "      <td>0.952132</td>\n",
              "      <td>1.000000</td>\n",
              "      <td>0.155771</td>\n",
              "      <td>0.032920</td>\n",
              "      <td>0.093960</td>\n",
              "      <td>0.487633</td>\n",
              "      <td>-0.062530</td>\n",
              "      <td>0.090479</td>\n",
              "      <td>0.085510</td>\n",
              "      <td>0.526377</td>\n",
              "      <td>-0.077669</td>\n",
              "    </tr>\n",
              "    <tr>\n",
              "      <th>rural_agricultural_land</th>\n",
              "      <td>0.054972</td>\n",
              "      <td>-0.322105</td>\n",
              "      <td>-0.425611</td>\n",
              "      <td>-0.394428</td>\n",
              "      <td>0.425519</td>\n",
              "      <td>0.429558</td>\n",
              "      <td>0.428458</td>\n",
              "      <td>0.053263</td>\n",
              "      <td>0.788680</td>\n",
              "      <td>0.264557</td>\n",
              "      <td>0.155771</td>\n",
              "      <td>1.000000</td>\n",
              "      <td>-0.946197</td>\n",
              "      <td>0.984193</td>\n",
              "      <td>0.772144</td>\n",
              "      <td>0.069956</td>\n",
              "      <td>0.982089</td>\n",
              "      <td>-0.834397</td>\n",
              "      <td>0.663086</td>\n",
              "      <td>-0.370091</td>\n",
              "    </tr>\n",
              "    <tr>\n",
              "      <th>rural_agricultural_land_percent</th>\n",
              "      <td>0.154520</td>\n",
              "      <td>0.222647</td>\n",
              "      <td>0.289880</td>\n",
              "      <td>0.289141</td>\n",
              "      <td>-0.279926</td>\n",
              "      <td>-0.270629</td>\n",
              "      <td>-0.275748</td>\n",
              "      <td>-0.063514</td>\n",
              "      <td>-0.619922</td>\n",
              "      <td>-0.091569</td>\n",
              "      <td>0.032920</td>\n",
              "      <td>-0.946197</td>\n",
              "      <td>1.000000</td>\n",
              "      <td>-0.952001</td>\n",
              "      <td>-0.604501</td>\n",
              "      <td>-0.077724</td>\n",
              "      <td>-0.949144</td>\n",
              "      <td>0.872259</td>\n",
              "      <td>-0.531781</td>\n",
              "      <td>0.231551</td>\n",
              "    </tr>\n",
              "    <tr>\n",
              "      <th>rural_land_area</th>\n",
              "      <td>0.000000</td>\n",
              "      <td>-0.308114</td>\n",
              "      <td>-0.358533</td>\n",
              "      <td>-0.364066</td>\n",
              "      <td>0.356099</td>\n",
              "      <td>0.356013</td>\n",
              "      <td>0.356787</td>\n",
              "      <td>0.037242</td>\n",
              "      <td>0.707965</td>\n",
              "      <td>0.195213</td>\n",
              "      <td>0.093960</td>\n",
              "      <td>0.984193</td>\n",
              "      <td>-0.952001</td>\n",
              "      <td>1.000000</td>\n",
              "      <td>0.681983</td>\n",
              "      <td>0.043396</td>\n",
              "      <td>0.998628</td>\n",
              "      <td>-0.782239</td>\n",
              "      <td>0.649574</td>\n",
              "      <td>-0.320573</td>\n",
              "    </tr>\n",
              "    <tr>\n",
              "      <th>rural_population</th>\n",
              "      <td>0.526945</td>\n",
              "      <td>-0.416043</td>\n",
              "      <td>-0.507139</td>\n",
              "      <td>-0.539468</td>\n",
              "      <td>0.451039</td>\n",
              "      <td>0.508364</td>\n",
              "      <td>0.481274</td>\n",
              "      <td>0.048433</td>\n",
              "      <td>0.992065</td>\n",
              "      <td>0.570691</td>\n",
              "      <td>0.487633</td>\n",
              "      <td>0.772144</td>\n",
              "      <td>-0.604501</td>\n",
              "      <td>0.681983</td>\n",
              "      <td>1.000000</td>\n",
              "      <td>0.069406</td>\n",
              "      <td>0.688536</td>\n",
              "      <td>-0.648114</td>\n",
              "      <td>0.664936</td>\n",
              "      <td>-0.416596</td>\n",
              "    </tr>\n",
              "    <tr>\n",
              "      <th>rural_population_growth</th>\n",
              "      <td>-0.125620</td>\n",
              "      <td>0.191963</td>\n",
              "      <td>-0.520289</td>\n",
              "      <td>0.170348</td>\n",
              "      <td>0.373094</td>\n",
              "      <td>0.383829</td>\n",
              "      <td>0.379349</td>\n",
              "      <td>0.984174</td>\n",
              "      <td>0.045021</td>\n",
              "      <td>-0.044098</td>\n",
              "      <td>-0.062530</td>\n",
              "      <td>0.069956</td>\n",
              "      <td>-0.077724</td>\n",
              "      <td>0.043396</td>\n",
              "      <td>0.069406</td>\n",
              "      <td>1.000000</td>\n",
              "      <td>0.047252</td>\n",
              "      <td>-0.144251</td>\n",
              "      <td>-0.017673</td>\n",
              "      <td>0.195322</td>\n",
              "    </tr>\n",
              "    <tr>\n",
              "      <th>rural_surface_area</th>\n",
              "      <td>0.000000</td>\n",
              "      <td>-0.285169</td>\n",
              "      <td>-0.351065</td>\n",
              "      <td>-0.347850</td>\n",
              "      <td>0.342141</td>\n",
              "      <td>0.344984</td>\n",
              "      <td>0.344297</td>\n",
              "      <td>0.040164</td>\n",
              "      <td>0.711902</td>\n",
              "      <td>0.192395</td>\n",
              "      <td>0.090479</td>\n",
              "      <td>0.982089</td>\n",
              "      <td>-0.949144</td>\n",
              "      <td>0.998628</td>\n",
              "      <td>0.688536</td>\n",
              "      <td>0.047252</td>\n",
              "      <td>1.000000</td>\n",
              "      <td>-0.788067</td>\n",
              "      <td>0.638615</td>\n",
              "      <td>-0.320399</td>\n",
              "    </tr>\n",
              "    <tr>\n",
              "      <th>urban_population_density</th>\n",
              "      <td>0.277753</td>\n",
              "      <td>-0.102030</td>\n",
              "      <td>0.217103</td>\n",
              "      <td>0.007394</td>\n",
              "      <td>-0.204549</td>\n",
              "      <td>-0.198012</td>\n",
              "      <td>-0.201627</td>\n",
              "      <td>-0.065951</td>\n",
              "      <td>-0.618015</td>\n",
              "      <td>-0.083090</td>\n",
              "      <td>0.085510</td>\n",
              "      <td>-0.834397</td>\n",
              "      <td>0.872259</td>\n",
              "      <td>-0.782239</td>\n",
              "      <td>-0.648114</td>\n",
              "      <td>-0.144251</td>\n",
              "      <td>-0.788067</td>\n",
              "      <td>1.000000</td>\n",
              "      <td>-0.223523</td>\n",
              "      <td>0.378218</td>\n",
              "    </tr>\n",
              "    <tr>\n",
              "      <th>urban_population_percent</th>\n",
              "      <td>0.646381</td>\n",
              "      <td>-0.821329</td>\n",
              "      <td>-0.627147</td>\n",
              "      <td>-0.855339</td>\n",
              "      <td>0.616092</td>\n",
              "      <td>0.651017</td>\n",
              "      <td>0.635213</td>\n",
              "      <td>0.067252</td>\n",
              "      <td>0.729526</td>\n",
              "      <td>0.492678</td>\n",
              "      <td>0.526377</td>\n",
              "      <td>0.663086</td>\n",
              "      <td>-0.531781</td>\n",
              "      <td>0.649574</td>\n",
              "      <td>0.664936</td>\n",
              "      <td>-0.017673</td>\n",
              "      <td>0.638615</td>\n",
              "      <td>-0.223523</td>\n",
              "      <td>1.000000</td>\n",
              "      <td>-0.112234</td>\n",
              "    </tr>\n",
              "    <tr>\n",
              "      <th>urban_population_percent_growth</th>\n",
              "      <td>0.018670</td>\n",
              "      <td>-0.067308</td>\n",
              "      <td>0.192606</td>\n",
              "      <td>-0.024546</td>\n",
              "      <td>-0.265504</td>\n",
              "      <td>-0.263350</td>\n",
              "      <td>-0.264948</td>\n",
              "      <td>0.324045</td>\n",
              "      <td>-0.392903</td>\n",
              "      <td>-0.105292</td>\n",
              "      <td>-0.077669</td>\n",
              "      <td>-0.370091</td>\n",
              "      <td>0.231551</td>\n",
              "      <td>-0.320573</td>\n",
              "      <td>-0.416596</td>\n",
              "      <td>0.195322</td>\n",
              "      <td>-0.320399</td>\n",
              "      <td>0.378218</td>\n",
              "      <td>-0.112234</td>\n",
              "      <td>1.000000</td>\n",
              "    </tr>\n",
              "  </tbody>\n",
              "</table>\n",
              "</div>"
            ],
            "text/plain": [
              "                                           year  ...  urban_population_percent_growth\n",
              "year                                   1.000000  ...                         0.018670\n",
              "birth_rate                            -0.715448  ...                        -0.067308\n",
              "death_rate                            -0.349035  ...                         0.192606\n",
              "fertility_rate                        -0.754714  ...                        -0.024546\n",
              "female_expectancy_at_birth             0.283695  ...                        -0.265504\n",
              "male_expectancy_at_birth               0.366005  ...                        -0.263350\n",
              "total_expectancy_at_birth              0.326361  ...                        -0.264948\n",
              "population_growth                     -0.043014  ...                         0.324045\n",
              "total_population                       0.559195  ...                        -0.392903\n",
              "cellular_subscriptions                 0.601834  ...                        -0.105292\n",
              "cellular_subscriptions_per_100_people  0.676150  ...                        -0.077669\n",
              "rural_agricultural_land                0.054972  ...                        -0.370091\n",
              "rural_agricultural_land_percent        0.154520  ...                         0.231551\n",
              "rural_land_area                        0.000000  ...                        -0.320573\n",
              "rural_population                       0.526945  ...                        -0.416596\n",
              "rural_population_growth               -0.125620  ...                         0.195322\n",
              "rural_surface_area                     0.000000  ...                        -0.320399\n",
              "urban_population_density               0.277753  ...                         0.378218\n",
              "urban_population_percent               0.646381  ...                        -0.112234\n",
              "urban_population_percent_growth        0.018670  ...                         1.000000\n",
              "\n",
              "[20 rows x 20 columns]"
            ]
          },
          "metadata": {
            "tags": []
          }
        },
        {
          "output_type": "execute_result",
          "data": {
            "text/plain": [
              "<matplotlib.axes._subplots.AxesSubplot at 0x7f9fa7ac4160>"
            ]
          },
          "metadata": {
            "tags": []
          },
          "execution_count": 44
        },
        {
          "output_type": "display_data",
          "data": {
            "image/png": "[encoded data removed]",
            "text/plain": [
              "<Figure size 432x288 with 2 Axes>"
            ]
          },
          "metadata": {
            "tags": []
          }
        }
      ]
    },
    {
      "cell_type": "code",
      "metadata": {
        "id": "C7g-4bEws2yi",
        "colab_type": "code",
        "outputId": "65e2ecca-369b-4571-dedf-71472e101cfd",
        "colab": {
          "base_uri": "https://localhost:8080/",
          "height": 170
        }
      },
      "source": [
        "globalEA.columns"
      ],
      "execution_count": 0,
      "outputs": [
        {
          "output_type": "execute_result",
          "data": {
            "text/plain": [
              "Index(['country', 'year', 'birth_rate', 'death_rate', 'fertility_rate',\n",
              "       'female_expectancy_at_birth', 'male_expectancy_at_birth',\n",
              "       'total_expectancy_at_birth', 'population_growth', 'total_population',\n",
              "       'cellular_subscriptions', 'cellular_subscriptions_per_100_people',\n",
              "       'rural_agricultural_land', 'rural_agricultural_land_percent',\n",
              "       'rural_land_area', 'rural_population', 'rural_population_growth',\n",
              "       'rural_surface_area', 'urban_population_density',\n",
              "       'urban_population_percent', 'urban_population_percent_growth'],\n",
              "      dtype='object')"
            ]
          },
          "metadata": {
            "tags": []
          },
          "execution_count": 45
        }
      ]
    },
    {
      "cell_type": "code",
      "metadata": {
        "id": "ihNHYe_as13M",
        "colab_type": "code",
        "outputId": "d75f5fed-3bdd-4095-a215-747602f2e6f5",
        "colab": {
          "base_uri": "https://localhost:8080/",
          "height": 354
        }
      },
      "source": [
        "plt.style.use('ggplot')\n",
        "plt.figure(figsize = (15,5))\n",
        "#globalEA[globalEA.country == \"Kenya\"].plot(x ='year',y = 'birth_rate',label = \"KE\")\n",
        "plt.plot(globalEA[globalEA.country == \"Uganda\"].year,globalEA[globalEA.country == \"Uganda\"].rural_surface_area /10**6,color=\"blue\",label = \"UG\")\n",
        "plt.plot(globalEA[globalEA.country == \"Kenya\"].year,globalEA[globalEA.country == \"Kenya\"].rural_surface_area /10**6,color=\"red\",label = \"Ke\")\n",
        "plt.plot(globalEA[globalEA.country == \"Tanzania\"].year,globalEA[globalEA.country == \"Tanzania\"].rural_surface_area /10**6,color=\"green\",label = \"Tz\")\n",
        "plt.plot(globalEA[globalEA.country == \"Rwanda\"].year,globalEA[globalEA.country == \"Rwanda\"].rural_surface_area/10**6,color=\"orange\",label = \"RD\")\n",
        "plt.xticks(rotation =60)\n",
        "plt.legend()\n",
        "plt.title(\"Rural surface area in East Africa\")\n",
        "plt.show()"
      ],
      "execution_count": 0,
      "outputs": [
        {
          "output_type": "display_data",
          "data": {
            "image/png": "[encoded data removed]",
            "text/plain": [
              "<Figure size 1080x360 with 1 Axes>"
            ]
          },
          "metadata": {
            "tags": []
          }
        }
      ]
    },
    {
      "cell_type": "code",
      "metadata": {
        "id": "L-BEQQZoR6-R",
        "colab_type": "code",
        "outputId": "1201cbc8-dd9c-48ed-b464-27646d6f8eca",
        "colab": {
          "base_uri": "https://localhost:8080/",
          "height": 354
        }
      },
      "source": [
        "plt.style.use('ggplot')\n",
        "plt.figure(figsize = (15,5))\n",
        "#globalEA[globalEA.country == \"Kenya\"].plot(x ='year',y = 'birth_rate',label = \"KE\")\n",
        "plt.plot(globalEA[globalEA.country == \"Uganda\"].year,globalEA[globalEA.country == \"Uganda\"].total_population /10**6,color=\"blue\",label = \"UG\")\n",
        "plt.plot(globalEA[globalEA.country == \"Kenya\"].year,globalEA[globalEA.country == \"Kenya\"].total_population /10**6,color=\"red\",label = \"Ke\")\n",
        "plt.plot(globalEA[globalEA.country == \"Tanzania\"].year,globalEA[globalEA.country == \"Tanzania\"].total_population /10**6,color=\"green\",label = \"Tz\")\n",
        "plt.plot(globalEA[globalEA.country == \"Rwanda\"].year,globalEA[globalEA.country == \"Rwanda\"].total_population/10**6,color=\"orange\",label = \"RD\")\n",
        "plt.xticks(rotation =60)\n",
        "plt.legend()\n",
        "plt.title(\"Total Population in East Africa\")\n",
        "plt.show()"
      ],
      "execution_count": 0,
      "outputs": [
        {
          "output_type": "display_data",
          "data": {
            "image/png": "[encoded data removed]",
            "text/plain": [
              "<Figure size 1080x360 with 1 Axes>"
            ]
          },
          "metadata": {
            "tags": []
          }
        }
      ]
    },
    {
      "cell_type": "code",
      "metadata": {
        "id": "mDB0FRehj2e0",
        "colab_type": "code",
        "outputId": "7a55b5a7-48cc-494b-cfee-7b420347334c",
        "colab": {
          "base_uri": "https://localhost:8080/",
          "height": 354
        }
      },
      "source": [
        "plt.style.use('ggplot')\n",
        "plt.figure(figsize = (15,5))\n",
        "#globalEA[globalEA.country == \"Kenya\"].plot(x ='year',y = 'birth_rate',label = \"KE\")\n",
        "plt.plot(globalEA[globalEA.country == \"Uganda\"].year,globalEA[globalEA.country == \"Uganda\"].cellular_subscriptions /10**6,color=\"blue\",label = \"UG\")\n",
        "plt.plot(globalEA[globalEA.country == \"Kenya\"].year,globalEA[globalEA.country == \"Kenya\"].cellular_subscriptions /10**6,color=\"red\",label = \"Ke\")\n",
        "plt.plot(globalEA[globalEA.country == \"Tanzania\"].year,globalEA[globalEA.country == \"Tanzania\"].cellular_subscriptions /10**6,color=\"green\",label = \"Tz\")\n",
        "plt.plot(globalEA[globalEA.country == \"Rwanda\"].year,globalEA[globalEA.country == \"Rwanda\"].cellular_subscriptions /10**6,color=\"orange\",label = \"RD\")\n",
        "plt.xticks(rotation =60)\n",
        "plt.legend()\n",
        "plt.title(\"Cellular Subscriptions in East Africa\")\n",
        "plt.show()"
      ],
      "execution_count": 0,
      "outputs": [
        {
          "output_type": "display_data",
          "data": {
            "image/png": "[encoded data removed]",
            "text/plain": [
              "<Figure size 1080x360 with 1 Axes>"
            ]
          },
          "metadata": {
            "tags": []
          }
        }
      ]
    },
    {
      "cell_type": "code",
      "metadata": {
        "id": "JrPU2EfwRphe",
        "colab_type": "code",
        "outputId": "5f6e9646-591a-4926-b970-8262fa0faec7",
        "colab": {
          "base_uri": "https://localhost:8080/",
          "height": 354
        }
      },
      "source": [
        "plt.style.use('ggplot')\n",
        "plt.figure(figsize = (15,5))\n",
        "plt.plot(globalEA[globalEA.country == \"Uganda\"].year,globalEA[globalEA.country == \"Uganda\"].total_expectancy_at_birth ,color=\"blue\",label = \"UG\")\n",
        "plt.plot(globalEA[globalEA.country == \"Kenya\"].year,globalEA[globalEA.country == \"Kenya\"].total_expectancy_at_birth ,color=\"red\",label = \"Ke\")\n",
        "plt.plot(globalEA[globalEA.country == \"Tanzania\"].year,globalEA[globalEA.country == \"Tanzania\"].total_expectancy_at_birth,color=\"green\",label = \"Tz\")\n",
        "plt.plot(globalEA[globalEA.country == \"Rwanda\"].year,globalEA[globalEA.country == \"Rwanda\"].total_expectancy_at_birth,color=\"orange\",label = \"RD\")\n",
        "plt.xticks(rotation =60)\n",
        "plt.legend()\n",
        "plt.title(\"total_expectancy_at_birth in East Africa\")\n",
        "plt.show()"
      ],
      "execution_count": 0,
      "outputs": [
        {
          "output_type": "display_data",
          "data": {
            "image/png": "[encoded data removed]",
            "text/plain": [
              "<Figure size 1080x360 with 1 Axes>"
            ]
          },
          "metadata": {
            "tags": []
          }
        }
      ]
    },
    {
      "cell_type": "code",
      "metadata": {
        "id": "clJLf-dURxDN",
        "colab_type": "code",
        "outputId": "73d8889f-0fe2-41f2-ef54-50d477a7c0aa",
        "colab": {
          "base_uri": "https://localhost:8080/",
          "height": 354
        }
      },
      "source": [
        "plt.style.use('ggplot')\n",
        "plt.figure(figsize = (15,5))\n",
        "plt.plot(globalEA[globalEA.country == \"Uganda\"].year,globalEA[globalEA.country == \"Uganda\"].rural_agricultural_land_percent ,color=\"blue\",label = \"UG\")\n",
        "plt.plot(globalEA[globalEA.country == \"Kenya\"].year,globalEA[globalEA.country == \"Kenya\"].rural_agricultural_land_percent ,color=\"red\",label = \"Ke\")\n",
        "plt.plot(globalEA[globalEA.country == \"Tanzania\"].year,globalEA[globalEA.country == \"Tanzania\"].rural_agricultural_land_percent,color=\"green\",label = \"Tz\")\n",
        "plt.plot(globalEA[globalEA.country == \"Rwanda\"].year,globalEA[globalEA.country == \"Rwanda\"].rural_agricultural_land_percent,color=\"orange\",label = \"RD\")\n",
        "plt.xticks(rotation =60)\n",
        "plt.legend()\n",
        "plt.title(\"rural_agricultural_land_percent in East Africa\")\n",
        "plt.show()"
      ],
      "execution_count": 0,
      "outputs": [
        {
          "output_type": "display_data",
          "data": {
            "image/png": "[encoded data removed]",
            "text/plain": [
              "<Figure size 1080x360 with 1 Axes>"
            ]
          },
          "metadata": {
            "tags": []
          }
        }
      ]
    }
  ]
}